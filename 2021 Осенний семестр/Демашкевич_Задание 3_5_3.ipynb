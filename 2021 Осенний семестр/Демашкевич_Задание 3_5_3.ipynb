{
 "cells": [
  {
   "cell_type": "code",
   "execution_count": 1,
   "id": "8da136c7-2f57-462f-93f8-56a0e25d6c1b",
   "metadata": {},
   "outputs": [
    {
     "name": "stdout",
     "output_type": "stream",
     "text": [
      "['v', 'i', 'k', 'a']\n"
     ]
    }
   ],
   "source": [
    "a = list('vika')\n",
    "print (a)"
   ]
  },
  {
   "cell_type": "code",
   "execution_count": 2,
   "id": "23e67e26-a2e4-42e5-8e8a-39601eafaec3",
   "metadata": {},
   "outputs": [
    {
     "name": "stdout",
     "output_type": "stream",
     "text": [
      "['v', 'i', 'k', 'a']\n"
     ]
    }
   ],
   "source": [
    "b = a [:]\n",
    "print (b)"
   ]
  },
  {
   "cell_type": "code",
   "execution_count": 3,
   "id": "90bd39c3-a86d-4504-8a3e-b76dcae33cc1",
   "metadata": {},
   "outputs": [
    {
     "name": "stdout",
     "output_type": "stream",
     "text": [
      "['a', 'i', 'k', 'v']\n"
     ]
    }
   ],
   "source": [
    "b.sort()\n",
    "print (b)"
   ]
  },
  {
   "cell_type": "code",
   "execution_count": 4,
   "id": "02daa6cf-bd59-4fe1-a3e7-281cd854d5f6",
   "metadata": {},
   "outputs": [
    {
     "name": "stdout",
     "output_type": "stream",
     "text": [
      "['a', 'a', 'i', 'k', 'v']\n"
     ]
    }
   ],
   "source": [
    "c = a+b\n",
    "c = c[3:]\n",
    "print (c)"
   ]
  },
  {
   "cell_type": "code",
   "execution_count": 5,
   "id": "c6ffa76d-4946-4b0d-8430-44f2ca6cea88",
   "metadata": {},
   "outputs": [
    {
     "name": "stdout",
     "output_type": "stream",
     "text": [
      "['v', 'i', 'k', 'a'] ['a', 'i', 'k', 'v'] ['a', 'a', 'i', 'k', 'v']\n"
     ]
    }
   ],
   "source": [
    "print (a, b, c)"
   ]
  },
  {
   "cell_type": "code",
   "execution_count": null,
   "id": "5d837a78-21ef-4eb4-9248-c6ba9778f637",
   "metadata": {},
   "outputs": [],
   "source": []
  }
 ],
 "metadata": {
  "kernelspec": {
   "display_name": "Python 3",
   "language": "python",
   "name": "python3"
  },
  "language_info": {
   "codemirror_mode": {
    "name": "ipython",
    "version": 3
   },
   "file_extension": ".py",
   "mimetype": "text/x-python",
   "name": "python",
   "nbconvert_exporter": "python",
   "pygments_lexer": "ipython3",
   "version": "3.7.10"
  }
 },
 "nbformat": 4,
 "nbformat_minor": 5
}
