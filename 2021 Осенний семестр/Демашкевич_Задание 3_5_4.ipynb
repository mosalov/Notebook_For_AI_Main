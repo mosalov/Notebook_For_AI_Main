{
 "cells": [
  {
   "cell_type": "code",
   "execution_count": 1,
   "id": "e54894c4-f9f1-4252-91b0-b8cb8075a471",
   "metadata": {},
   "outputs": [
    {
     "name": "stdout",
     "output_type": "stream",
     "text": [
      "{1: 10, 'abc': 'def', 0: [0, 1, 2], (0, 1): 'а'}\n"
     ]
    }
   ],
   "source": [
    "a = {}\n",
    "a[1]=10\n",
    "a['abc']='def'\n",
    "a[0]=[0, 1, 2]\n",
    "a[(0, 1)]='а'\n",
    "print (a)"
   ]
  },
  {
   "cell_type": "code",
   "execution_count": 2,
   "id": "9d2a3228-b416-49ca-ba85-975ace4d4055",
   "metadata": {},
   "outputs": [
    {
     "name": "stdout",
     "output_type": "stream",
     "text": [
      "{1: 15, 'abc': 'def', 0: [0, 1, 2], (0, 1): 'а'}\n"
     ]
    }
   ],
   "source": [
    "a[1]=a[1]+5\n",
    "print (a)"
   ]
  },
  {
   "cell_type": "code",
   "execution_count": 3,
   "id": "302e2c2d-76f9-4664-9efe-994db65c4a29",
   "metadata": {},
   "outputs": [
    {
     "name": "stdout",
     "output_type": "stream",
     "text": [
      "{1: 15, 'abc': 'defdef', 0: [0, 1, 2], (0, 1): 'а'}\n"
     ]
    }
   ],
   "source": [
    "a['abc']= a['abc']*2\n",
    "print (a)"
   ]
  },
  {
   "cell_type": "code",
   "execution_count": 4,
   "id": "0ae52b63-5d76-4674-b4bc-9ffc1f2e58bb",
   "metadata": {},
   "outputs": [
    {
     "name": "stdout",
     "output_type": "stream",
     "text": [
      "{1: 15, 'abc': 'defdef', 0: [1, 2, 3], (0, 1): 'а'}\n"
     ]
    }
   ],
   "source": [
    "a[0].append(3)\n",
    "a[0] = a[0][1:]\n",
    "print (a)"
   ]
  },
  {
   "cell_type": "code",
   "execution_count": 5,
   "id": "7f426adc-5890-4126-92e2-9efc3a2a3693",
   "metadata": {},
   "outputs": [
    {
     "name": "stdout",
     "output_type": "stream",
     "text": [
      "{1: 15, 'abc': 'defdef', 0: [1, 2, 3]}\n"
     ]
    }
   ],
   "source": [
    "a.pop((0, 1))\n",
    "print (a)"
   ]
  },
  {
   "cell_type": "code",
   "execution_count": null,
   "id": "1be7ee6f-8bf4-46b3-9b17-c37381cb7d69",
   "metadata": {},
   "outputs": [],
   "source": []
  }
 ],
 "metadata": {
  "kernelspec": {
   "display_name": "Python 3",
   "language": "python",
   "name": "python3"
  },
  "language_info": {
   "codemirror_mode": {
    "name": "ipython",
    "version": 3
   },
   "file_extension": ".py",
   "mimetype": "text/x-python",
   "name": "python",
   "nbconvert_exporter": "python",
   "pygments_lexer": "ipython3",
   "version": "3.7.10"
  }
 },
 "nbformat": 4,
 "nbformat_minor": 5
}
