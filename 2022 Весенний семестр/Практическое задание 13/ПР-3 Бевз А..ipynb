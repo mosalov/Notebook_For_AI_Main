{
 "cells": [
  {
   "cell_type": "code",
   "execution_count": 1,
   "metadata": {},
   "outputs": [
    {
     "name": "stderr",
     "output_type": "stream",
     "text": [
      "2022-04-02 17:52:57.743770: W tensorflow/stream_executor/platform/default/dso_loader.cc:64] Could not load dynamic library 'libcudart.so.11.0'; dlerror: libcudart.so.11.0: cannot open shared object file: No such file or directory\n",
      "2022-04-02 17:52:57.743819: I tensorflow/stream_executor/cuda/cudart_stub.cc:29] Ignore above cudart dlerror if you do not have a GPU set up on your machine.\n"
     ]
    }
   ],
   "source": [
    "# Зависимости\n",
    "import pandas as pd\n",
    "import numpy as np\n",
    "import matplotlib.pyplot as plt\n",
    "import random\n",
    "import os\n",
    "\n",
    "from sklearn.model_selection import train_test_split\n",
    "from sklearn.preprocessing import MinMaxScaler, OneHotEncoder\n",
    "from sklearn.compose import ColumnTransformer\n",
    "\n",
    "from sklearn.neural_network import MLPRegressor, MLPClassifier\n",
    "\n",
    "from sklearn.metrics import mean_squared_error, f1_score\n",
    "\n",
    "import tensorflow as tf\n",
    "from keras.models import Sequential\n",
    "from keras.layers import Dense, Dropout"
   ]
  },
  {
   "cell_type": "code",
   "execution_count": 2,
   "metadata": {},
   "outputs": [
    {
     "name": "stderr",
     "output_type": "stream",
     "text": [
      "2022-04-02 17:52:59.688315: I tensorflow/core/platform/cpu_feature_guard.cc:151] This TensorFlow binary is optimized with oneAPI Deep Neural Network Library (oneDNN) to use the following CPU instructions in performance-critical operations:  AVX2 FMA\n",
      "To enable them in other operations, rebuild TensorFlow with the appropriate compiler flags.\n",
      "2022-04-02 17:52:59.688887: W tensorflow/stream_executor/platform/default/dso_loader.cc:64] Could not load dynamic library 'libcuda.so.1'; dlerror: libcuda.so.1: cannot open shared object file: No such file or directory\n",
      "2022-04-02 17:52:59.688951: W tensorflow/stream_executor/cuda/cuda_driver.cc:269] failed call to cuInit: UNKNOWN ERROR (303)\n",
      "2022-04-02 17:52:59.689008: I tensorflow/stream_executor/cuda/cuda_diagnostics.cc:156] kernel driver does not appear to be running on this host (jupyter-mosalov-2dnotebook-5ffor-5fai-5fmain-2diu8oknl3): /proc/driver/nvidia/version does not exist\n"
     ]
    },
    {
     "name": "stdout",
     "output_type": "stream",
     "text": [
      "WARNING:tensorflow:From /tmp/ipykernel_1894/445716377.py:16: The name tf.keras.backend.set_session is deprecated. Please use tf.compat.v1.keras.backend.set_session instead.\n",
      "\n"
     ]
    }
   ],
   "source": [
    "# Инициализируем все известные генераторы случайных чисел / Setting all known random seeds\n",
    "my_code = \"БевзА\"\n",
    "seed_limit = 2 ** 32\n",
    "my_seed = int.from_bytes(my_code.encode(), \"little\") % seed_limit\n",
    "\n",
    "os.environ['PYTHONHASHSEED']=str(my_seed)\n",
    "\n",
    "random.seed(my_seed)\n",
    "\n",
    "np.random.seed(my_seed)\n",
    "\n",
    "tf.compat.v1.set_random_seed(my_seed)\n",
    "\n",
    "session_conf = tf.compat.v1.ConfigProto(intra_op_parallelism_threads=1, inter_op_parallelism_threads=1)\n",
    "sess = tf.compat.v1.Session(graph=tf.compat.v1.get_default_graph(), config=session_conf)\n",
    "tf.compat.v1.keras.backend.set_session(sess)"
   ]
  },
  {
   "cell_type": "code",
   "execution_count": 3,
   "metadata": {},
   "outputs": [],
   "source": [
    "# Читаем данные из файла\n",
    "data_B = pd.read_csv(\"datasets/Fish.csv\")"
   ]
  },
  {
   "cell_type": "code",
   "execution_count": 4,
   "metadata": {
    "scrolled": true
   },
   "outputs": [
    {
     "data": {
      "text/html": [
       "<div>\n",
       "<style scoped>\n",
       "    .dataframe tbody tr th:only-of-type {\n",
       "        vertical-align: middle;\n",
       "    }\n",
       "\n",
       "    .dataframe tbody tr th {\n",
       "        vertical-align: top;\n",
       "    }\n",
       "\n",
       "    .dataframe thead th {\n",
       "        text-align: right;\n",
       "    }\n",
       "</style>\n",
       "<table border=\"1\" class=\"dataframe\">\n",
       "  <thead>\n",
       "    <tr style=\"text-align: right;\">\n",
       "      <th></th>\n",
       "      <th>Species</th>\n",
       "      <th>Weight</th>\n",
       "      <th>Length1</th>\n",
       "      <th>Length2</th>\n",
       "      <th>Length3</th>\n",
       "      <th>Height</th>\n",
       "      <th>Width</th>\n",
       "    </tr>\n",
       "  </thead>\n",
       "  <tbody>\n",
       "    <tr>\n",
       "      <th>0</th>\n",
       "      <td>Bream</td>\n",
       "      <td>242.0</td>\n",
       "      <td>23.2</td>\n",
       "      <td>25.4</td>\n",
       "      <td>30.0</td>\n",
       "      <td>11.5200</td>\n",
       "      <td>4.0200</td>\n",
       "    </tr>\n",
       "    <tr>\n",
       "      <th>1</th>\n",
       "      <td>Bream</td>\n",
       "      <td>290.0</td>\n",
       "      <td>24.0</td>\n",
       "      <td>26.3</td>\n",
       "      <td>31.2</td>\n",
       "      <td>12.4800</td>\n",
       "      <td>4.3056</td>\n",
       "    </tr>\n",
       "    <tr>\n",
       "      <th>2</th>\n",
       "      <td>Bream</td>\n",
       "      <td>340.0</td>\n",
       "      <td>23.9</td>\n",
       "      <td>26.5</td>\n",
       "      <td>31.1</td>\n",
       "      <td>12.3778</td>\n",
       "      <td>4.6961</td>\n",
       "    </tr>\n",
       "    <tr>\n",
       "      <th>3</th>\n",
       "      <td>Bream</td>\n",
       "      <td>363.0</td>\n",
       "      <td>26.3</td>\n",
       "      <td>29.0</td>\n",
       "      <td>33.5</td>\n",
       "      <td>12.7300</td>\n",
       "      <td>4.4555</td>\n",
       "    </tr>\n",
       "    <tr>\n",
       "      <th>4</th>\n",
       "      <td>Bream</td>\n",
       "      <td>430.0</td>\n",
       "      <td>26.5</td>\n",
       "      <td>29.0</td>\n",
       "      <td>34.0</td>\n",
       "      <td>12.4440</td>\n",
       "      <td>5.1340</td>\n",
       "    </tr>\n",
       "    <tr>\n",
       "      <th>...</th>\n",
       "      <td>...</td>\n",
       "      <td>...</td>\n",
       "      <td>...</td>\n",
       "      <td>...</td>\n",
       "      <td>...</td>\n",
       "      <td>...</td>\n",
       "      <td>...</td>\n",
       "    </tr>\n",
       "    <tr>\n",
       "      <th>154</th>\n",
       "      <td>Smelt</td>\n",
       "      <td>12.2</td>\n",
       "      <td>11.5</td>\n",
       "      <td>12.2</td>\n",
       "      <td>13.4</td>\n",
       "      <td>2.0904</td>\n",
       "      <td>1.3936</td>\n",
       "    </tr>\n",
       "    <tr>\n",
       "      <th>155</th>\n",
       "      <td>Smelt</td>\n",
       "      <td>13.4</td>\n",
       "      <td>11.7</td>\n",
       "      <td>12.4</td>\n",
       "      <td>13.5</td>\n",
       "      <td>2.4300</td>\n",
       "      <td>1.2690</td>\n",
       "    </tr>\n",
       "    <tr>\n",
       "      <th>156</th>\n",
       "      <td>Smelt</td>\n",
       "      <td>12.2</td>\n",
       "      <td>12.1</td>\n",
       "      <td>13.0</td>\n",
       "      <td>13.8</td>\n",
       "      <td>2.2770</td>\n",
       "      <td>1.2558</td>\n",
       "    </tr>\n",
       "    <tr>\n",
       "      <th>157</th>\n",
       "      <td>Smelt</td>\n",
       "      <td>19.7</td>\n",
       "      <td>13.2</td>\n",
       "      <td>14.3</td>\n",
       "      <td>15.2</td>\n",
       "      <td>2.8728</td>\n",
       "      <td>2.0672</td>\n",
       "    </tr>\n",
       "    <tr>\n",
       "      <th>158</th>\n",
       "      <td>Smelt</td>\n",
       "      <td>19.9</td>\n",
       "      <td>13.8</td>\n",
       "      <td>15.0</td>\n",
       "      <td>16.2</td>\n",
       "      <td>2.9322</td>\n",
       "      <td>1.8792</td>\n",
       "    </tr>\n",
       "  </tbody>\n",
       "</table>\n",
       "<p>159 rows × 7 columns</p>\n",
       "</div>"
      ],
      "text/plain": [
       "    Species  Weight  Length1  Length2  Length3   Height   Width\n",
       "0     Bream   242.0     23.2     25.4     30.0  11.5200  4.0200\n",
       "1     Bream   290.0     24.0     26.3     31.2  12.4800  4.3056\n",
       "2     Bream   340.0     23.9     26.5     31.1  12.3778  4.6961\n",
       "3     Bream   363.0     26.3     29.0     33.5  12.7300  4.4555\n",
       "4     Bream   430.0     26.5     29.0     34.0  12.4440  5.1340\n",
       "..      ...     ...      ...      ...      ...      ...     ...\n",
       "154   Smelt    12.2     11.5     12.2     13.4   2.0904  1.3936\n",
       "155   Smelt    13.4     11.7     12.4     13.5   2.4300  1.2690\n",
       "156   Smelt    12.2     12.1     13.0     13.8   2.2770  1.2558\n",
       "157   Smelt    19.7     13.2     14.3     15.2   2.8728  2.0672\n",
       "158   Smelt    19.9     13.8     15.0     16.2   2.9322  1.8792\n",
       "\n",
       "[159 rows x 7 columns]"
      ]
     },
     "execution_count": 4,
     "metadata": {},
     "output_type": "execute_result"
    }
   ],
   "source": [
    "data_B"
   ]
  },
  {
   "cell_type": "code",
   "execution_count": 5,
   "metadata": {},
   "outputs": [
    {
     "name": "stdout",
     "output_type": "stream",
     "text": [
      "32\n"
     ]
    }
   ],
   "source": [
    "# Определим размер валидационной и тестовой выборок\n",
    "val_test_size = round(0.2*len(data_B))\n",
    "print(val_test_size)"
   ]
  },
  {
   "cell_type": "code",
   "execution_count": 6,
   "metadata": {},
   "outputs": [
    {
     "name": "stdout",
     "output_type": "stream",
     "text": [
      "95 32 32\n"
     ]
    }
   ],
   "source": [
    "# Создадим обучающую, валидационную и тестовую выборки\n",
    "random_state = my_seed\n",
    "train_val, test = train_test_split(data_B, test_size=val_test_size, random_state=random_state)\n",
    "train, val = train_test_split(train_val, test_size=val_test_size, random_state=random_state)\n",
    "print(len(train), len(val), len(test))"
   ]
  },
  {
   "cell_type": "code",
   "execution_count": 7,
   "metadata": {},
   "outputs": [
    {
     "data": {
      "text/plain": [
       "ColumnTransformer(transformers=[('numerical', MinMaxScaler(),\n",
       "                                 ['Weight', 'Length1', 'Length2', 'Length3',\n",
       "                                  'Height', 'Width']),\n",
       "                                ('ordinal', OneHotEncoder(), ['Species'])])"
      ]
     },
     "execution_count": 7,
     "metadata": {},
     "output_type": "execute_result"
    }
   ],
   "source": [
    "# Значения в числовых столбцах преобразуем к отрезку [0,1].\n",
    "# Для настройки скалировщика используем только обучающую выборку.\n",
    "num_columns = ['Weight', 'Length1', 'Length2', 'Length3', 'Height', 'Width']\n",
    "ord_columns = ['Species']\n",
    "\n",
    "ct = ColumnTransformer(transformers=[\n",
    "    ('numerical', MinMaxScaler(), num_columns), \n",
    "    ('ordinal', OneHotEncoder(), ord_columns)])\n",
    "\n",
    "ct.fit(train)"
   ]
  },
  {
   "cell_type": "code",
   "execution_count": 8,
   "metadata": {},
   "outputs": [],
   "source": [
    "# Преобразуем значения, тип данных приводим к DataFrame\n",
    "sc_train = pd.DataFrame(ct.transform(train))\n",
    "sc_test = pd.DataFrame(ct.transform(test))\n",
    "sc_val = pd.DataFrame(ct.transform(val))"
   ]
  },
  {
   "cell_type": "code",
   "execution_count": null,
   "metadata": {},
   "outputs": [],
   "source": []
  },
  {
   "cell_type": "code",
   "execution_count": 9,
   "metadata": {},
   "outputs": [],
   "source": [
    "# Устанавливаем названия столбцов\n",
    "column_names = num_columns + list(range(7))\n",
    "sc_train.columns = column_names\n",
    "sc_test.columns = column_names\n",
    "sc_val.columns = column_names"
   ]
  },
  {
   "cell_type": "code",
   "execution_count": 10,
   "metadata": {},
   "outputs": [
    {
     "data": {
      "text/html": [
       "<div>\n",
       "<style scoped>\n",
       "    .dataframe tbody tr th:only-of-type {\n",
       "        vertical-align: middle;\n",
       "    }\n",
       "\n",
       "    .dataframe tbody tr th {\n",
       "        vertical-align: top;\n",
       "    }\n",
       "\n",
       "    .dataframe thead th {\n",
       "        text-align: right;\n",
       "    }\n",
       "</style>\n",
       "<table border=\"1\" class=\"dataframe\">\n",
       "  <thead>\n",
       "    <tr style=\"text-align: right;\">\n",
       "      <th></th>\n",
       "      <th>Weight</th>\n",
       "      <th>Length1</th>\n",
       "      <th>Length2</th>\n",
       "      <th>Length3</th>\n",
       "      <th>Height</th>\n",
       "      <th>Width</th>\n",
       "      <th>0</th>\n",
       "      <th>1</th>\n",
       "      <th>2</th>\n",
       "      <th>3</th>\n",
       "      <th>4</th>\n",
       "      <th>5</th>\n",
       "      <th>6</th>\n",
       "    </tr>\n",
       "  </thead>\n",
       "  <tbody>\n",
       "    <tr>\n",
       "      <th>0</th>\n",
       "      <td>0.06250</td>\n",
       "      <td>0.179381</td>\n",
       "      <td>0.186047</td>\n",
       "      <td>0.188406</td>\n",
       "      <td>0.205218</td>\n",
       "      <td>0.310741</td>\n",
       "      <td>0.0</td>\n",
       "      <td>0.0</td>\n",
       "      <td>1.0</td>\n",
       "      <td>0.0</td>\n",
       "      <td>0.0</td>\n",
       "      <td>0.0</td>\n",
       "      <td>0.0</td>\n",
       "    </tr>\n",
       "    <tr>\n",
       "      <th>1</th>\n",
       "      <td>0.12500</td>\n",
       "      <td>0.301031</td>\n",
       "      <td>0.292636</td>\n",
       "      <td>0.326087</td>\n",
       "      <td>0.332930</td>\n",
       "      <td>0.425932</td>\n",
       "      <td>0.0</td>\n",
       "      <td>0.0</td>\n",
       "      <td>0.0</td>\n",
       "      <td>0.0</td>\n",
       "      <td>1.0</td>\n",
       "      <td>0.0</td>\n",
       "      <td>0.0</td>\n",
       "    </tr>\n",
       "    <tr>\n",
       "      <th>2</th>\n",
       "      <td>0.18750</td>\n",
       "      <td>0.498969</td>\n",
       "      <td>0.496124</td>\n",
       "      <td>0.525362</td>\n",
       "      <td>0.233728</td>\n",
       "      <td>0.430336</td>\n",
       "      <td>0.0</td>\n",
       "      <td>0.0</td>\n",
       "      <td>0.0</td>\n",
       "      <td>1.0</td>\n",
       "      <td>0.0</td>\n",
       "      <td>0.0</td>\n",
       "      <td>0.0</td>\n",
       "    </tr>\n",
       "    <tr>\n",
       "      <th>3</th>\n",
       "      <td>0.17000</td>\n",
       "      <td>0.360825</td>\n",
       "      <td>0.360465</td>\n",
       "      <td>0.394928</td>\n",
       "      <td>0.401720</td>\n",
       "      <td>0.518360</td>\n",
       "      <td>0.0</td>\n",
       "      <td>0.0</td>\n",
       "      <td>0.0</td>\n",
       "      <td>0.0</td>\n",
       "      <td>1.0</td>\n",
       "      <td>0.0</td>\n",
       "      <td>0.0</td>\n",
       "    </tr>\n",
       "    <tr>\n",
       "      <th>4</th>\n",
       "      <td>0.18750</td>\n",
       "      <td>0.400000</td>\n",
       "      <td>0.393411</td>\n",
       "      <td>0.385870</td>\n",
       "      <td>0.343996</td>\n",
       "      <td>0.498599</td>\n",
       "      <td>0.0</td>\n",
       "      <td>0.0</td>\n",
       "      <td>1.0</td>\n",
       "      <td>0.0</td>\n",
       "      <td>0.0</td>\n",
       "      <td>0.0</td>\n",
       "      <td>0.0</td>\n",
       "    </tr>\n",
       "    <tr>\n",
       "      <th>...</th>\n",
       "      <td>...</td>\n",
       "      <td>...</td>\n",
       "      <td>...</td>\n",
       "      <td>...</td>\n",
       "      <td>...</td>\n",
       "      <td>...</td>\n",
       "      <td>...</td>\n",
       "      <td>...</td>\n",
       "      <td>...</td>\n",
       "      <td>...</td>\n",
       "      <td>...</td>\n",
       "      <td>...</td>\n",
       "      <td>...</td>\n",
       "    </tr>\n",
       "    <tr>\n",
       "      <th>90</th>\n",
       "      <td>0.06875</td>\n",
       "      <td>0.237113</td>\n",
       "      <td>0.244186</td>\n",
       "      <td>0.248188</td>\n",
       "      <td>0.232829</td>\n",
       "      <td>0.344115</td>\n",
       "      <td>0.0</td>\n",
       "      <td>0.0</td>\n",
       "      <td>1.0</td>\n",
       "      <td>0.0</td>\n",
       "      <td>0.0</td>\n",
       "      <td>0.0</td>\n",
       "      <td>0.0</td>\n",
       "    </tr>\n",
       "    <tr>\n",
       "      <th>91</th>\n",
       "      <td>0.11250</td>\n",
       "      <td>0.319588</td>\n",
       "      <td>0.321705</td>\n",
       "      <td>0.320652</td>\n",
       "      <td>0.276704</td>\n",
       "      <td>0.362489</td>\n",
       "      <td>0.0</td>\n",
       "      <td>0.0</td>\n",
       "      <td>1.0</td>\n",
       "      <td>0.0</td>\n",
       "      <td>0.0</td>\n",
       "      <td>0.0</td>\n",
       "      <td>0.0</td>\n",
       "    </tr>\n",
       "    <tr>\n",
       "      <th>92</th>\n",
       "      <td>0.08750</td>\n",
       "      <td>0.237113</td>\n",
       "      <td>0.238372</td>\n",
       "      <td>0.260870</td>\n",
       "      <td>0.399934</td>\n",
       "      <td>0.306852</td>\n",
       "      <td>0.0</td>\n",
       "      <td>1.0</td>\n",
       "      <td>0.0</td>\n",
       "      <td>0.0</td>\n",
       "      <td>0.0</td>\n",
       "      <td>0.0</td>\n",
       "      <td>0.0</td>\n",
       "    </tr>\n",
       "    <tr>\n",
       "      <th>93</th>\n",
       "      <td>0.43750</td>\n",
       "      <td>0.472165</td>\n",
       "      <td>0.476744</td>\n",
       "      <td>0.538043</td>\n",
       "      <td>0.775858</td>\n",
       "      <td>0.578972</td>\n",
       "      <td>1.0</td>\n",
       "      <td>0.0</td>\n",
       "      <td>0.0</td>\n",
       "      <td>0.0</td>\n",
       "      <td>0.0</td>\n",
       "      <td>0.0</td>\n",
       "      <td>0.0</td>\n",
       "    </tr>\n",
       "    <tr>\n",
       "      <th>94</th>\n",
       "      <td>0.48125</td>\n",
       "      <td>0.769072</td>\n",
       "      <td>0.767442</td>\n",
       "      <td>0.768116</td>\n",
       "      <td>0.349564</td>\n",
       "      <td>0.604496</td>\n",
       "      <td>0.0</td>\n",
       "      <td>0.0</td>\n",
       "      <td>0.0</td>\n",
       "      <td>1.0</td>\n",
       "      <td>0.0</td>\n",
       "      <td>0.0</td>\n",
       "      <td>0.0</td>\n",
       "    </tr>\n",
       "  </tbody>\n",
       "</table>\n",
       "<p>95 rows × 13 columns</p>\n",
       "</div>"
      ],
      "text/plain": [
       "     Weight   Length1   Length2   Length3    Height     Width    0    1    2  \\\n",
       "0   0.06250  0.179381  0.186047  0.188406  0.205218  0.310741  0.0  0.0  1.0   \n",
       "1   0.12500  0.301031  0.292636  0.326087  0.332930  0.425932  0.0  0.0  0.0   \n",
       "2   0.18750  0.498969  0.496124  0.525362  0.233728  0.430336  0.0  0.0  0.0   \n",
       "3   0.17000  0.360825  0.360465  0.394928  0.401720  0.518360  0.0  0.0  0.0   \n",
       "4   0.18750  0.400000  0.393411  0.385870  0.343996  0.498599  0.0  0.0  1.0   \n",
       "..      ...       ...       ...       ...       ...       ...  ...  ...  ...   \n",
       "90  0.06875  0.237113  0.244186  0.248188  0.232829  0.344115  0.0  0.0  1.0   \n",
       "91  0.11250  0.319588  0.321705  0.320652  0.276704  0.362489  0.0  0.0  1.0   \n",
       "92  0.08750  0.237113  0.238372  0.260870  0.399934  0.306852  0.0  1.0  0.0   \n",
       "93  0.43750  0.472165  0.476744  0.538043  0.775858  0.578972  1.0  0.0  0.0   \n",
       "94  0.48125  0.769072  0.767442  0.768116  0.349564  0.604496  0.0  0.0  0.0   \n",
       "\n",
       "      3    4    5    6  \n",
       "0   0.0  0.0  0.0  0.0  \n",
       "1   0.0  1.0  0.0  0.0  \n",
       "2   1.0  0.0  0.0  0.0  \n",
       "3   0.0  1.0  0.0  0.0  \n",
       "4   0.0  0.0  0.0  0.0  \n",
       "..  ...  ...  ...  ...  \n",
       "90  0.0  0.0  0.0  0.0  \n",
       "91  0.0  0.0  0.0  0.0  \n",
       "92  0.0  0.0  0.0  0.0  \n",
       "93  0.0  0.0  0.0  0.0  \n",
       "94  1.0  0.0  0.0  0.0  \n",
       "\n",
       "[95 rows x 13 columns]"
      ]
     },
     "execution_count": 10,
     "metadata": {},
     "output_type": "execute_result"
    }
   ],
   "source": [
    "sc_train"
   ]
  },
  {
   "cell_type": "code",
   "execution_count": 11,
   "metadata": {},
   "outputs": [
    {
     "name": "stdout",
     "output_type": "stream",
     "text": [
      "['Weight', 'Length1', 'Length2', 'Length3', 'Height', 'Width']\n",
      "[0, 1, 2, 3, 4, 5, 6]\n"
     ]
    }
   ],
   "source": [
    "# В качестве входных параметров используем все числовые параметры\n",
    "# в качестве выходного - единственный категориальный параметр.\n",
    "x_labels = num_columns[:]\n",
    "y_labels = column_names[6:]\n",
    "print(x_labels)\n",
    "print(y_labels)"
   ]
  },
  {
   "cell_type": "code",
   "execution_count": 12,
   "metadata": {},
   "outputs": [],
   "source": [
    "# Отберем необходимые параметры\n",
    "x_train = sc_train[x_labels]\n",
    "x_test = sc_test[x_labels]\n",
    "x_val = sc_val[x_labels]\n",
    "\n",
    "y_train = sc_train[y_labels]\n",
    "y_test = sc_test[y_labels]\n",
    "y_val = sc_val[y_labels]\n"
   ]
  },
  {
   "cell_type": "code",
   "execution_count": 13,
   "metadata": {},
   "outputs": [
    {
     "data": {
      "text/html": [
       "<div>\n",
       "<style scoped>\n",
       "    .dataframe tbody tr th:only-of-type {\n",
       "        vertical-align: middle;\n",
       "    }\n",
       "\n",
       "    .dataframe tbody tr th {\n",
       "        vertical-align: top;\n",
       "    }\n",
       "\n",
       "    .dataframe thead th {\n",
       "        text-align: right;\n",
       "    }\n",
       "</style>\n",
       "<table border=\"1\" class=\"dataframe\">\n",
       "  <thead>\n",
       "    <tr style=\"text-align: right;\">\n",
       "      <th></th>\n",
       "      <th>0</th>\n",
       "      <th>1</th>\n",
       "      <th>2</th>\n",
       "      <th>3</th>\n",
       "      <th>4</th>\n",
       "      <th>5</th>\n",
       "      <th>6</th>\n",
       "    </tr>\n",
       "  </thead>\n",
       "  <tbody>\n",
       "    <tr>\n",
       "      <th>0</th>\n",
       "      <td>0.0</td>\n",
       "      <td>0.0</td>\n",
       "      <td>1.0</td>\n",
       "      <td>0.0</td>\n",
       "      <td>0.0</td>\n",
       "      <td>0.0</td>\n",
       "      <td>0.0</td>\n",
       "    </tr>\n",
       "    <tr>\n",
       "      <th>1</th>\n",
       "      <td>0.0</td>\n",
       "      <td>0.0</td>\n",
       "      <td>0.0</td>\n",
       "      <td>0.0</td>\n",
       "      <td>1.0</td>\n",
       "      <td>0.0</td>\n",
       "      <td>0.0</td>\n",
       "    </tr>\n",
       "    <tr>\n",
       "      <th>2</th>\n",
       "      <td>0.0</td>\n",
       "      <td>0.0</td>\n",
       "      <td>0.0</td>\n",
       "      <td>1.0</td>\n",
       "      <td>0.0</td>\n",
       "      <td>0.0</td>\n",
       "      <td>0.0</td>\n",
       "    </tr>\n",
       "    <tr>\n",
       "      <th>3</th>\n",
       "      <td>0.0</td>\n",
       "      <td>0.0</td>\n",
       "      <td>0.0</td>\n",
       "      <td>0.0</td>\n",
       "      <td>1.0</td>\n",
       "      <td>0.0</td>\n",
       "      <td>0.0</td>\n",
       "    </tr>\n",
       "    <tr>\n",
       "      <th>4</th>\n",
       "      <td>0.0</td>\n",
       "      <td>0.0</td>\n",
       "      <td>1.0</td>\n",
       "      <td>0.0</td>\n",
       "      <td>0.0</td>\n",
       "      <td>0.0</td>\n",
       "      <td>0.0</td>\n",
       "    </tr>\n",
       "    <tr>\n",
       "      <th>...</th>\n",
       "      <td>...</td>\n",
       "      <td>...</td>\n",
       "      <td>...</td>\n",
       "      <td>...</td>\n",
       "      <td>...</td>\n",
       "      <td>...</td>\n",
       "      <td>...</td>\n",
       "    </tr>\n",
       "    <tr>\n",
       "      <th>90</th>\n",
       "      <td>0.0</td>\n",
       "      <td>0.0</td>\n",
       "      <td>1.0</td>\n",
       "      <td>0.0</td>\n",
       "      <td>0.0</td>\n",
       "      <td>0.0</td>\n",
       "      <td>0.0</td>\n",
       "    </tr>\n",
       "    <tr>\n",
       "      <th>91</th>\n",
       "      <td>0.0</td>\n",
       "      <td>0.0</td>\n",
       "      <td>1.0</td>\n",
       "      <td>0.0</td>\n",
       "      <td>0.0</td>\n",
       "      <td>0.0</td>\n",
       "      <td>0.0</td>\n",
       "    </tr>\n",
       "    <tr>\n",
       "      <th>92</th>\n",
       "      <td>0.0</td>\n",
       "      <td>1.0</td>\n",
       "      <td>0.0</td>\n",
       "      <td>0.0</td>\n",
       "      <td>0.0</td>\n",
       "      <td>0.0</td>\n",
       "      <td>0.0</td>\n",
       "    </tr>\n",
       "    <tr>\n",
       "      <th>93</th>\n",
       "      <td>1.0</td>\n",
       "      <td>0.0</td>\n",
       "      <td>0.0</td>\n",
       "      <td>0.0</td>\n",
       "      <td>0.0</td>\n",
       "      <td>0.0</td>\n",
       "      <td>0.0</td>\n",
       "    </tr>\n",
       "    <tr>\n",
       "      <th>94</th>\n",
       "      <td>0.0</td>\n",
       "      <td>0.0</td>\n",
       "      <td>0.0</td>\n",
       "      <td>1.0</td>\n",
       "      <td>0.0</td>\n",
       "      <td>0.0</td>\n",
       "      <td>0.0</td>\n",
       "    </tr>\n",
       "  </tbody>\n",
       "</table>\n",
       "<p>95 rows × 7 columns</p>\n",
       "</div>"
      ],
      "text/plain": [
       "      0    1    2    3    4    5    6\n",
       "0   0.0  0.0  1.0  0.0  0.0  0.0  0.0\n",
       "1   0.0  0.0  0.0  0.0  1.0  0.0  0.0\n",
       "2   0.0  0.0  0.0  1.0  0.0  0.0  0.0\n",
       "3   0.0  0.0  0.0  0.0  1.0  0.0  0.0\n",
       "4   0.0  0.0  1.0  0.0  0.0  0.0  0.0\n",
       "..  ...  ...  ...  ...  ...  ...  ...\n",
       "90  0.0  0.0  1.0  0.0  0.0  0.0  0.0\n",
       "91  0.0  0.0  1.0  0.0  0.0  0.0  0.0\n",
       "92  0.0  1.0  0.0  0.0  0.0  0.0  0.0\n",
       "93  1.0  0.0  0.0  0.0  0.0  0.0  0.0\n",
       "94  0.0  0.0  0.0  1.0  0.0  0.0  0.0\n",
       "\n",
       "[95 rows x 7 columns]"
      ]
     },
     "execution_count": 13,
     "metadata": {},
     "output_type": "execute_result"
    }
   ],
   "source": [
    "y_train"
   ]
  },
  {
   "cell_type": "code",
   "execution_count": 14,
   "metadata": {},
   "outputs": [],
   "source": [
    "# Задание №1 - решение задачи классификации.\n",
    "# В качестве входных параметров используем все числовые параметры,\n",
    "# в качестве выходного - единственный категориальный параметр."
   ]
  },
  {
   "cell_type": "code",
   "execution_count": 15,
   "metadata": {},
   "outputs": [],
   "source": [
    "# Создайте нейронную сеть для решения задачи классификации двумя способами: с помощью sklearn и keras.\n",
    "# Сравните их эффективность.\n",
    "# Для keras используйте loss и metrics = 'categorical_crossentropy'."
   ]
  },
  {
   "cell_type": "code",
   "execution_count": 16,
   "metadata": {},
   "outputs": [
    {
     "data": {
      "text/plain": [
       "{'activation': 'relu',\n",
       " 'alpha': 0.0,\n",
       " 'batch_size': 16,\n",
       " 'beta_1': 0.9,\n",
       " 'beta_2': 0.999,\n",
       " 'early_stopping': False,\n",
       " 'epsilon': 1e-07,\n",
       " 'hidden_layer_sizes': (100,),\n",
       " 'learning_rate': 'constant',\n",
       " 'learning_rate_init': 0.001,\n",
       " 'max_fun': 15000,\n",
       " 'max_iter': 10000,\n",
       " 'momentum': 0.9,\n",
       " 'n_iter_no_change': 10,\n",
       " 'nesterovs_momentum': True,\n",
       " 'power_t': 0.5,\n",
       " 'random_state': None,\n",
       " 'shuffle': True,\n",
       " 'solver': 'adam',\n",
       " 'tol': 0.0001,\n",
       " 'validation_fraction': 0.1,\n",
       " 'verbose': False,\n",
       " 'warm_start': False}"
      ]
     },
     "execution_count": 16,
     "metadata": {},
     "output_type": "execute_result"
    }
   ],
   "source": [
    "# Создадим нейроннную сеть для решения задачи классификации на базе библиотеки sklearn\n",
    "# Выбираем количество итераций 10000 для оптимизации\n",
    "reg = MLPClassifier(alpha=0.0, batch_size=16, epsilon=1e-07, max_iter=10000)\n",
    "reg.get_params()"
   ]
  },
  {
   "cell_type": "code",
   "execution_count": 17,
   "metadata": {},
   "outputs": [
    {
     "data": {
      "text/plain": [
       "MLPClassifier(alpha=0.0, batch_size=16, epsilon=1e-07, max_iter=10000)"
      ]
     },
     "execution_count": 17,
     "metadata": {},
     "output_type": "execute_result"
    }
   ],
   "source": [
    "# Обучим нейронную сеть\n",
    "reg.fit(x_train, y_train)"
   ]
  },
  {
   "cell_type": "code",
   "execution_count": 18,
   "metadata": {},
   "outputs": [],
   "source": [
    "pred_val1 = reg.predict(x_val)\n"
   ]
  },
  {
   "cell_type": "code",
   "execution_count": 19,
   "metadata": {},
   "outputs": [
    {
     "name": "stdout",
     "output_type": "stream",
     "text": [
      "0.022321428571428572\n"
     ]
    }
   ],
   "source": [
    "# Проверим работу обученной нейронной сети на валидационной выборке\n",
    "\n",
    "mse1 = mean_squared_error(y_val, pred_val1)\n",
    "print(mse1)"
   ]
  },
  {
   "cell_type": "code",
   "execution_count": 20,
   "metadata": {},
   "outputs": [
    {
     "name": "stdout",
     "output_type": "stream",
     "text": [
      "Model: \"sequential\"\n",
      "_________________________________________________________________\n",
      " Layer (type)                Output Shape              Param #   \n",
      "=================================================================\n",
      " dense (Dense)               (None, 7)                 42        \n",
      "                                                                 \n",
      " dense_1 (Dense)             (None, 7)                 49        \n",
      "                                                                 \n",
      "=================================================================\n",
      "Total params: 91\n",
      "Trainable params: 91\n",
      "Non-trainable params: 0\n",
      "_________________________________________________________________\n"
     ]
    }
   ],
   "source": [
    "# Создадим нейронную сеть на базе библиотеки keras\n",
    "model = Sequential()\n",
    "\n",
    "model.add(Dense(7, input_dim=6, activation='sigmoid', use_bias=False))\n",
    "\n",
    "model.add(Dense(7,input_dim=6, activation='sigmoid', use_bias=False))\n",
    "\n",
    "model.compile(loss='categorical_crossentropy', optimizer='adam', metrics=['categorical_crossentropy'])\n",
    "\n",
    "model.summary()\n"
   ]
  },
  {
   "cell_type": "code",
   "execution_count": 21,
   "metadata": {},
   "outputs": [
    {
     "name": "stdout",
     "output_type": "stream",
     "text": [
      "Epoch 1/15\n",
      "16/16 [==============================] - 1s 18ms/step - loss: 2.1588 - categorical_crossentropy: 2.1588 - val_loss: 2.3349 - val_categorical_crossentropy: 2.3349\n",
      "Epoch 2/15\n",
      "16/16 [==============================] - 0s 5ms/step - loss: 2.1236 - categorical_crossentropy: 2.1236 - val_loss: 2.2811 - val_categorical_crossentropy: 2.2811\n",
      "Epoch 3/15\n",
      "16/16 [==============================] - 0s 6ms/step - loss: 2.0886 - categorical_crossentropy: 2.0886 - val_loss: 2.2343 - val_categorical_crossentropy: 2.2343\n",
      "Epoch 4/15\n",
      "16/16 [==============================] - 0s 7ms/step - loss: 2.0588 - categorical_crossentropy: 2.0588 - val_loss: 2.1870 - val_categorical_crossentropy: 2.1870\n",
      "Epoch 5/15\n",
      "16/16 [==============================] - 0s 6ms/step - loss: 2.0299 - categorical_crossentropy: 2.0299 - val_loss: 2.1455 - val_categorical_crossentropy: 2.1455\n",
      "Epoch 6/15\n",
      "16/16 [==============================] - 0s 7ms/step - loss: 2.0048 - categorical_crossentropy: 2.0048 - val_loss: 2.1029 - val_categorical_crossentropy: 2.1029\n",
      "Epoch 7/15\n",
      "16/16 [==============================] - 0s 7ms/step - loss: 1.9792 - categorical_crossentropy: 1.9792 - val_loss: 2.0658 - val_categorical_crossentropy: 2.0658\n",
      "Epoch 8/15\n",
      "16/16 [==============================] - 0s 6ms/step - loss: 1.9588 - categorical_crossentropy: 1.9588 - val_loss: 2.0282 - val_categorical_crossentropy: 2.0282\n",
      "Epoch 9/15\n",
      "16/16 [==============================] - 0s 4ms/step - loss: 1.9368 - categorical_crossentropy: 1.9368 - val_loss: 1.9961 - val_categorical_crossentropy: 1.9961\n",
      "Epoch 10/15\n",
      "16/16 [==============================] - 0s 6ms/step - loss: 1.9187 - categorical_crossentropy: 1.9187 - val_loss: 1.9633 - val_categorical_crossentropy: 1.9633\n",
      "Epoch 11/15\n",
      "16/16 [==============================] - 0s 6ms/step - loss: 1.9011 - categorical_crossentropy: 1.9011 - val_loss: 1.9331 - val_categorical_crossentropy: 1.9331\n",
      "Epoch 12/15\n",
      "16/16 [==============================] - 0s 6ms/step - loss: 1.8841 - categorical_crossentropy: 1.8841 - val_loss: 1.9058 - val_categorical_crossentropy: 1.9058\n",
      "Epoch 13/15\n",
      "16/16 [==============================] - 0s 6ms/step - loss: 1.8696 - categorical_crossentropy: 1.8696 - val_loss: 1.8807 - val_categorical_crossentropy: 1.8807\n",
      "Epoch 14/15\n",
      "16/16 [==============================] - 0s 6ms/step - loss: 1.8562 - categorical_crossentropy: 1.8562 - val_loss: 1.8544 - val_categorical_crossentropy: 1.8544\n",
      "Epoch 15/15\n",
      "16/16 [==============================] - 0s 5ms/step - loss: 1.8430 - categorical_crossentropy: 1.8430 - val_loss: 1.8328 - val_categorical_crossentropy: 1.8328\n"
     ]
    }
   ],
   "source": [
    "# Обучим нейронную сеть\n",
    "history1 = model.fit(x_train, y_train\n",
    "                    , validation_data = (x_val, y_val)\n",
    "                    , epochs=15, batch_size=6, verbose=1)"
   ]
  },
  {
   "cell_type": "code",
   "execution_count": 22,
   "metadata": {},
   "outputs": [
    {
     "name": "stdout",
     "output_type": "stream",
     "text": [
      "0.3092290168267275\n"
     ]
    }
   ],
   "source": [
    "pred_val2 = model.predict(x_val)\n",
    "mse2 = mean_squared_error(y_val, pred_val2)\n",
    "print(mse2)"
   ]
  },
  {
   "cell_type": "code",
   "execution_count": 23,
   "metadata": {},
   "outputs": [],
   "source": [
    "# Задание №2 - использование dropout-слоя."
   ]
  },
  {
   "cell_type": "code",
   "execution_count": 24,
   "metadata": {},
   "outputs": [],
   "source": [
    "# Создайте нейронную сеть для решения задачи классификации с помощью keras. Используйте dropout-слой.\n",
    "# Сравните эффективность нейронных сетей с dropout-слоем и без него.\n",
    "# Попробуйте найти такие параметры dropout-слоя, чтобы сеть с ним работала лучше, чем без него."
   ]
  },
  {
   "cell_type": "code",
   "execution_count": 25,
   "metadata": {},
   "outputs": [
    {
     "name": "stdout",
     "output_type": "stream",
     "text": [
      "Model: \"sequential_1\"\n",
      "_________________________________________________________________\n",
      " Layer (type)                Output Shape              Param #   \n",
      "=================================================================\n",
      " dense_2 (Dense)             (None, 100)               600       \n",
      "                                                                 \n",
      " dropout (Dropout)           (None, 100)               0         \n",
      "                                                                 \n",
      " dense_3 (Dense)             (None, 7)                 700       \n",
      "                                                                 \n",
      "=================================================================\n",
      "Total params: 1,300\n",
      "Trainable params: 1,300\n",
      "Non-trainable params: 0\n",
      "_________________________________________________________________\n"
     ]
    }
   ],
   "source": [
    "drop = Sequential()\n",
    "\n",
    "drop.add(Dense(100, input_dim=6, activation='relu', use_bias=False))\n",
    "\n",
    "drop.add(Dropout(rate=0.5))\n",
    "\n",
    "drop.add(Dense(7, activation='linear', use_bias=False))\n",
    "\n",
    "drop.compile(loss='mean_squared_error', optimizer='adam', metrics=['mean_squared_error'])\n",
    "\n",
    "drop.summary()"
   ]
  },
  {
   "cell_type": "code",
   "execution_count": 26,
   "metadata": {},
   "outputs": [
    {
     "name": "stdout",
     "output_type": "stream",
     "text": [
      "Epoch 1/30\n",
      "19/19 [==============================] - 1s 11ms/step - loss: 0.1664 - mean_squared_error: 0.1664 - val_loss: 0.1201 - val_mean_squared_error: 0.1201\n",
      "Epoch 2/30\n",
      "19/19 [==============================] - 0s 3ms/step - loss: 0.1437 - mean_squared_error: 0.1437 - val_loss: 0.1084 - val_mean_squared_error: 0.1084\n",
      "Epoch 3/30\n",
      "19/19 [==============================] - 0s 6ms/step - loss: 0.1271 - mean_squared_error: 0.1271 - val_loss: 0.1057 - val_mean_squared_error: 0.1057\n",
      "Epoch 4/30\n",
      "19/19 [==============================] - 0s 5ms/step - loss: 0.1273 - mean_squared_error: 0.1273 - val_loss: 0.1033 - val_mean_squared_error: 0.1033\n",
      "Epoch 5/30\n",
      "19/19 [==============================] - 0s 4ms/step - loss: 0.1225 - mean_squared_error: 0.1225 - val_loss: 0.1022 - val_mean_squared_error: 0.1022\n",
      "Epoch 6/30\n",
      "19/19 [==============================] - 0s 3ms/step - loss: 0.1218 - mean_squared_error: 0.1218 - val_loss: 0.1007 - val_mean_squared_error: 0.1007\n",
      "Epoch 7/30\n",
      "19/19 [==============================] - 0s 6ms/step - loss: 0.1198 - mean_squared_error: 0.1198 - val_loss: 0.0991 - val_mean_squared_error: 0.0991\n",
      "Epoch 8/30\n",
      "19/19 [==============================] - 0s 4ms/step - loss: 0.1196 - mean_squared_error: 0.1196 - val_loss: 0.0971 - val_mean_squared_error: 0.0971\n",
      "Epoch 9/30\n",
      "19/19 [==============================] - 0s 9ms/step - loss: 0.1178 - mean_squared_error: 0.1178 - val_loss: 0.0959 - val_mean_squared_error: 0.0959\n",
      "Epoch 10/30\n",
      "19/19 [==============================] - 0s 5ms/step - loss: 0.1105 - mean_squared_error: 0.1105 - val_loss: 0.0939 - val_mean_squared_error: 0.0939\n",
      "Epoch 11/30\n",
      "19/19 [==============================] - 0s 6ms/step - loss: 0.1097 - mean_squared_error: 0.1097 - val_loss: 0.0924 - val_mean_squared_error: 0.0924\n",
      "Epoch 12/30\n",
      "19/19 [==============================] - 0s 6ms/step - loss: 0.1080 - mean_squared_error: 0.1080 - val_loss: 0.0908 - val_mean_squared_error: 0.0908\n",
      "Epoch 13/30\n",
      "19/19 [==============================] - 0s 5ms/step - loss: 0.1060 - mean_squared_error: 0.1060 - val_loss: 0.0896 - val_mean_squared_error: 0.0896\n",
      "Epoch 14/30\n",
      "19/19 [==============================] - 0s 5ms/step - loss: 0.1029 - mean_squared_error: 0.1029 - val_loss: 0.0876 - val_mean_squared_error: 0.0876\n",
      "Epoch 15/30\n",
      "19/19 [==============================] - 0s 5ms/step - loss: 0.1034 - mean_squared_error: 0.1034 - val_loss: 0.0861 - val_mean_squared_error: 0.0861\n",
      "Epoch 16/30\n",
      "19/19 [==============================] - 0s 5ms/step - loss: 0.1047 - mean_squared_error: 0.1047 - val_loss: 0.0859 - val_mean_squared_error: 0.0859\n",
      "Epoch 17/30\n",
      "19/19 [==============================] - 0s 6ms/step - loss: 0.0994 - mean_squared_error: 0.0994 - val_loss: 0.0848 - val_mean_squared_error: 0.0848\n",
      "Epoch 18/30\n",
      "19/19 [==============================] - 0s 4ms/step - loss: 0.1015 - mean_squared_error: 0.1015 - val_loss: 0.0836 - val_mean_squared_error: 0.0836\n",
      "Epoch 19/30\n",
      "19/19 [==============================] - 0s 5ms/step - loss: 0.0988 - mean_squared_error: 0.0988 - val_loss: 0.0808 - val_mean_squared_error: 0.0808\n",
      "Epoch 20/30\n",
      "19/19 [==============================] - 0s 4ms/step - loss: 0.0970 - mean_squared_error: 0.0970 - val_loss: 0.0806 - val_mean_squared_error: 0.0806\n",
      "Epoch 21/30\n",
      "19/19 [==============================] - 0s 5ms/step - loss: 0.0965 - mean_squared_error: 0.0965 - val_loss: 0.0801 - val_mean_squared_error: 0.0801\n",
      "Epoch 22/30\n",
      "19/19 [==============================] - 0s 5ms/step - loss: 0.0932 - mean_squared_error: 0.0932 - val_loss: 0.0783 - val_mean_squared_error: 0.0783\n",
      "Epoch 23/30\n",
      "19/19 [==============================] - 0s 5ms/step - loss: 0.0935 - mean_squared_error: 0.0935 - val_loss: 0.0770 - val_mean_squared_error: 0.0770\n",
      "Epoch 24/30\n",
      "19/19 [==============================] - 0s 5ms/step - loss: 0.0938 - mean_squared_error: 0.0938 - val_loss: 0.0755 - val_mean_squared_error: 0.0755\n",
      "Epoch 25/30\n",
      "19/19 [==============================] - 0s 3ms/step - loss: 0.0925 - mean_squared_error: 0.0925 - val_loss: 0.0749 - val_mean_squared_error: 0.0749\n",
      "Epoch 26/30\n",
      "19/19 [==============================] - 0s 6ms/step - loss: 0.0905 - mean_squared_error: 0.0905 - val_loss: 0.0737 - val_mean_squared_error: 0.0737\n",
      "Epoch 27/30\n",
      "19/19 [==============================] - 0s 5ms/step - loss: 0.0916 - mean_squared_error: 0.0916 - val_loss: 0.0734 - val_mean_squared_error: 0.0734\n",
      "Epoch 28/30\n",
      "19/19 [==============================] - 0s 5ms/step - loss: 0.0890 - mean_squared_error: 0.0890 - val_loss: 0.0729 - val_mean_squared_error: 0.0729\n",
      "Epoch 29/30\n",
      "19/19 [==============================] - 0s 5ms/step - loss: 0.0910 - mean_squared_error: 0.0910 - val_loss: 0.0722 - val_mean_squared_error: 0.0722\n",
      "Epoch 30/30\n",
      "19/19 [==============================] - 0s 5ms/step - loss: 0.0851 - mean_squared_error: 0.0851 - val_loss: 0.0703 - val_mean_squared_error: 0.0703\n"
     ]
    }
   ],
   "source": [
    "history2 = drop.fit(x_train, y_train, validation_data = (x_val, y_val), \n",
    "                    epochs=30, batch_size=5, verbose=1)"
   ]
  },
  {
   "cell_type": "code",
   "execution_count": 27,
   "metadata": {},
   "outputs": [
    {
     "name": "stdout",
     "output_type": "stream",
     "text": [
      "0.07033518273280183\n"
     ]
    }
   ],
   "source": [
    "pred_val3 = drop.predict(x_val)\n",
    "mse3 = mean_squared_error(y_val, pred_val3)\n",
    "print(mse3)"
   ]
  },
  {
   "cell_type": "code",
   "execution_count": 28,
   "metadata": {},
   "outputs": [
    {
     "name": "stdout",
     "output_type": "stream",
     "text": [
      "0.022321428571428572\n",
      "0.3092290168267275\n",
      "0.07033518273280183\n"
     ]
    }
   ],
   "source": [
    "print(mse1)\n",
    "print(mse2)\n",
    "print(mse3)"
   ]
  },
  {
   "cell_type": "code",
   "execution_count": null,
   "metadata": {},
   "outputs": [],
   "source": []
  },
  {
   "cell_type": "code",
   "execution_count": null,
   "metadata": {},
   "outputs": [],
   "source": []
  }
 ],
 "metadata": {
  "kernelspec": {
   "display_name": "Python 3 (ipykernel)",
   "language": "python",
   "name": "python3"
  },
  "language_info": {
   "codemirror_mode": {
    "name": "ipython",
    "version": 3
   },
   "file_extension": ".py",
   "mimetype": "text/x-python",
   "name": "python",
   "nbconvert_exporter": "python",
   "pygments_lexer": "ipython3",
   "version": "3.7.12"
  }
 },
 "nbformat": 4,
 "nbformat_minor": 4
}
