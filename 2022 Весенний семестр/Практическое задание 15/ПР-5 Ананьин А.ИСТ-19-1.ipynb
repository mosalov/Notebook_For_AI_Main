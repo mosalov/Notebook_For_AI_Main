{
 "cells": [
  {
   "cell_type": "code",
   "execution_count": 1,
   "metadata": {},
   "outputs": [],
   "source": [
    "# Зависимости\n",
    "import pandas as pd\n",
    "import numpy as np\n",
    "import matplotlib.pyplot as plt\n",
    "import random\n",
    "import os\n",
    "\n",
    "from sklearn.model_selection import train_test_split\n",
    "from sklearn.preprocessing import MinMaxScaler\n",
    "from sklearn.neighbors import KNeighborsRegressor\n",
    "from sklearn.naive_bayes import MultinomialNB\n",
    "from sklearn.svm import SVR, SVC\n",
    "from sklearn.tree import DecisionTreeRegressor\n",
    "from sklearn.compose import ColumnTransformer, TransformedTargetRegressor \n",
    "\n",
    "from sklearn.linear_model import LinearRegression,Lasso, Ridge, ElasticNet, LogisticRegression\n",
    "from sklearn.metrics import mean_squared_error"
   ]
  },
  {
   "cell_type": "code",
   "execution_count": 2,
   "metadata": {},
   "outputs": [],
   "source": [
    "# Инициализируем все известные генераторы случаынйх чисел / Setting all known random seeds\n",
    "my_code = \"Ананьин А.\"\n",
    "seed_limit = 2 ** 32\n",
    "my_seed = int.from_bytes(my_code.encode(), \"little\") % seed_limit\n",
    "\n",
    "os.environ['PYTHONHASHSEED']=str(my_seed)\n",
    "\n",
    "random.seed(my_seed)\n",
    "\n",
    "np.random.seed(my_seed)"
   ]
  },
  {
   "cell_type": "code",
   "execution_count": 3,
   "metadata": {},
   "outputs": [],
   "source": [
    "# Читаем данные из файла\n",
    "train_data = pd.read_csv(\"datasets/rus_stocks_funds_train.csv\")"
   ]
  },
  {
   "cell_type": "code",
   "execution_count": 4,
   "metadata": {
    "scrolled": true
   },
   "outputs": [
    {
     "data": {
      "text/html": [
       "<div>\n",
       "<style scoped>\n",
       "    .dataframe tbody tr th:only-of-type {\n",
       "        vertical-align: middle;\n",
       "    }\n",
       "\n",
       "    .dataframe tbody tr th {\n",
       "        vertical-align: top;\n",
       "    }\n",
       "\n",
       "    .dataframe thead th {\n",
       "        text-align: right;\n",
       "    }\n",
       "</style>\n",
       "<table border=\"1\" class=\"dataframe\">\n",
       "  <thead>\n",
       "    <tr style=\"text-align: right;\">\n",
       "      <th></th>\n",
       "      <th>Total issued ordinary shares</th>\n",
       "      <th>Number of shares available for sale</th>\n",
       "      <th>Number of employees</th>\n",
       "      <th>Number of shareholders</th>\n",
       "      <th>Price/Profit</th>\n",
       "      <th>Debt/Assets</th>\n",
       "    </tr>\n",
       "  </thead>\n",
       "  <tbody>\n",
       "    <tr>\n",
       "      <th>0</th>\n",
       "      <td>7.210000e+09</td>\n",
       "      <td>2.870000e+09</td>\n",
       "      <td>110809.6875</td>\n",
       "      <td>3190.000000</td>\n",
       "      <td>9.870000</td>\n",
       "      <td>0.27</td>\n",
       "    </tr>\n",
       "    <tr>\n",
       "      <th>1</th>\n",
       "      <td>1.060000e+10</td>\n",
       "      <td>1.130000e+09</td>\n",
       "      <td>318000.0000</td>\n",
       "      <td>28230.000000</td>\n",
       "      <td>13.910000</td>\n",
       "      <td>0.30</td>\n",
       "    </tr>\n",
       "    <tr>\n",
       "      <th>2</th>\n",
       "      <td>2.249000e+10</td>\n",
       "      <td>1.027000e+10</td>\n",
       "      <td>329570.0000</td>\n",
       "      <td>61044.948718</td>\n",
       "      <td>4.080000</td>\n",
       "      <td>0.25</td>\n",
       "    </tr>\n",
       "    <tr>\n",
       "      <th>3</th>\n",
       "      <td>4.995200e+08</td>\n",
       "      <td>1.964200e+08</td>\n",
       "      <td>59380.0000</td>\n",
       "      <td>81.000000</td>\n",
       "      <td>2.910000</td>\n",
       "      <td>1.31</td>\n",
       "    </tr>\n",
       "    <tr>\n",
       "      <th>4</th>\n",
       "      <td>9.520000e+09</td>\n",
       "      <td>1.309960e+11</td>\n",
       "      <td>110809.6875</td>\n",
       "      <td>61044.948718</td>\n",
       "      <td>15.525191</td>\n",
       "      <td>0.35</td>\n",
       "    </tr>\n",
       "  </tbody>\n",
       "</table>\n",
       "</div>"
      ],
      "text/plain": [
       "   Total issued ordinary shares  Number of shares available for sale  \\\n",
       "0                  7.210000e+09                         2.870000e+09   \n",
       "1                  1.060000e+10                         1.130000e+09   \n",
       "2                  2.249000e+10                         1.027000e+10   \n",
       "3                  4.995200e+08                         1.964200e+08   \n",
       "4                  9.520000e+09                         1.309960e+11   \n",
       "\n",
       "   Number of employees  Number of shareholders  Price/Profit  Debt/Assets  \n",
       "0          110809.6875             3190.000000      9.870000         0.27  \n",
       "1          318000.0000            28230.000000     13.910000         0.30  \n",
       "2          329570.0000            61044.948718      4.080000         0.25  \n",
       "3           59380.0000               81.000000      2.910000         1.31  \n",
       "4          110809.6875            61044.948718     15.525191         0.35  "
      ]
     },
     "execution_count": 4,
     "metadata": {},
     "output_type": "execute_result"
    }
   ],
   "source": [
    "train_data.head()"
   ]
  },
  {
   "cell_type": "code",
   "execution_count": 5,
   "metadata": {},
   "outputs": [
    {
     "name": "stdout",
     "output_type": "stream",
     "text": [
      "66\n"
     ]
    }
   ],
   "source": [
    "# Определим размер валидационной выборки\n",
    "val_size = round(0.2*len(train_data))\n",
    "print(val_size)"
   ]
  },
  {
   "cell_type": "code",
   "execution_count": 6,
   "metadata": {},
   "outputs": [
    {
     "name": "stdout",
     "output_type": "stream",
     "text": [
      "263 66\n"
     ]
    }
   ],
   "source": [
    "# Создадим обучающую и валидационную выборки\n",
    "random_state = my_seed\n",
    "train, val = train_test_split(train_data, test_size=val_size, random_state=random_state)\n",
    "print(len(train), len(val))"
   ]
  },
  {
   "cell_type": "code",
   "execution_count": 7,
   "metadata": {},
   "outputs": [
    {
     "data": {
      "text/plain": [
       "ColumnTransformer(remainder='passthrough',\n",
       "                  transformers=[('numerical', MinMaxScaler(),\n",
       "                                 ['Total issued ordinary shares',\n",
       "                                  'Number of shares available for sale',\n",
       "                                  'Number of employees',\n",
       "                                  'Number of shareholders', 'Price/Profit'])])"
      ]
     },
     "execution_count": 7,
     "metadata": {},
     "output_type": "execute_result"
    }
   ],
   "source": [
    "# Значения в числовых столбцах преобразуем к отрезку [0,1].\n",
    "# Для настройки скалировщика используем только обучающую выборку.\n",
    "y_column = 'Debt/Assets'\n",
    "x_columns = [e for e in train_data.columns if e != y_column]\n",
    "\n",
    "ct = ColumnTransformer(transformers=[('numerical', MinMaxScaler(), x_columns)], remainder='passthrough')\n",
    "\n",
    "ct.fit(train)"
   ]
  },
  {
   "cell_type": "code",
   "execution_count": 8,
   "metadata": {},
   "outputs": [],
   "source": [
    "# Преобразуем значения, тип данных приводим к DataFrame\n",
    "sc_train = pd.DataFrame(ct.transform(train))\n",
    "sc_val = pd.DataFrame(ct.transform(val))"
   ]
  },
  {
   "cell_type": "code",
   "execution_count": 9,
   "metadata": {},
   "outputs": [],
   "source": [
    "# Устанавливаем названия столбцов\n",
    "column_names = list(x_columns) + [y_column]\n",
    "sc_train.columns = column_names\n",
    "sc_val.columns = column_names"
   ]
  },
  {
   "cell_type": "code",
   "execution_count": 10,
   "metadata": {},
   "outputs": [
    {
     "data": {
      "text/html": [
       "<div>\n",
       "<style scoped>\n",
       "    .dataframe tbody tr th:only-of-type {\n",
       "        vertical-align: middle;\n",
       "    }\n",
       "\n",
       "    .dataframe tbody tr th {\n",
       "        vertical-align: top;\n",
       "    }\n",
       "\n",
       "    .dataframe thead th {\n",
       "        text-align: right;\n",
       "    }\n",
       "</style>\n",
       "<table border=\"1\" class=\"dataframe\">\n",
       "  <thead>\n",
       "    <tr style=\"text-align: right;\">\n",
       "      <th></th>\n",
       "      <th>Total issued ordinary shares</th>\n",
       "      <th>Number of shares available for sale</th>\n",
       "      <th>Number of employees</th>\n",
       "      <th>Number of shareholders</th>\n",
       "      <th>Price/Profit</th>\n",
       "      <th>Debt/Assets</th>\n",
       "    </tr>\n",
       "  </thead>\n",
       "  <tbody>\n",
       "    <tr>\n",
       "      <th>0</th>\n",
       "      <td>0.000210</td>\n",
       "      <td>0.024360</td>\n",
       "      <td>0.231278</td>\n",
       "      <td>0.007811</td>\n",
       "      <td>0.067302</td>\n",
       "      <td>0.27</td>\n",
       "    </tr>\n",
       "    <tr>\n",
       "      <th>1</th>\n",
       "      <td>0.001269</td>\n",
       "      <td>0.030674</td>\n",
       "      <td>0.231278</td>\n",
       "      <td>0.076527</td>\n",
       "      <td>0.111870</td>\n",
       "      <td>0.00</td>\n",
       "    </tr>\n",
       "    <tr>\n",
       "      <th>2</th>\n",
       "      <td>0.000089</td>\n",
       "      <td>0.049084</td>\n",
       "      <td>0.231278</td>\n",
       "      <td>0.149645</td>\n",
       "      <td>0.250690</td>\n",
       "      <td>0.07</td>\n",
       "    </tr>\n",
       "    <tr>\n",
       "      <th>3</th>\n",
       "      <td>0.000021</td>\n",
       "      <td>0.023874</td>\n",
       "      <td>0.231278</td>\n",
       "      <td>0.096115</td>\n",
       "      <td>0.083222</td>\n",
       "      <td>0.14</td>\n",
       "    </tr>\n",
       "    <tr>\n",
       "      <th>4</th>\n",
       "      <td>0.000066</td>\n",
       "      <td>0.049084</td>\n",
       "      <td>0.231278</td>\n",
       "      <td>0.149645</td>\n",
       "      <td>0.107258</td>\n",
       "      <td>0.84</td>\n",
       "    </tr>\n",
       "    <tr>\n",
       "      <th>...</th>\n",
       "      <td>...</td>\n",
       "      <td>...</td>\n",
       "      <td>...</td>\n",
       "      <td>...</td>\n",
       "      <td>...</td>\n",
       "      <td>...</td>\n",
       "    </tr>\n",
       "    <tr>\n",
       "      <th>258</th>\n",
       "      <td>0.000175</td>\n",
       "      <td>0.049084</td>\n",
       "      <td>0.231278</td>\n",
       "      <td>0.149645</td>\n",
       "      <td>0.022776</td>\n",
       "      <td>0.29</td>\n",
       "    </tr>\n",
       "    <tr>\n",
       "      <th>259</th>\n",
       "      <td>0.002155</td>\n",
       "      <td>0.028584</td>\n",
       "      <td>0.099216</td>\n",
       "      <td>0.872961</td>\n",
       "      <td>0.023721</td>\n",
       "      <td>0.08</td>\n",
       "    </tr>\n",
       "    <tr>\n",
       "      <th>260</th>\n",
       "      <td>0.005737</td>\n",
       "      <td>0.000000</td>\n",
       "      <td>0.231278</td>\n",
       "      <td>0.692601</td>\n",
       "      <td>0.013240</td>\n",
       "      <td>0.24</td>\n",
       "    </tr>\n",
       "    <tr>\n",
       "      <th>261</th>\n",
       "      <td>0.001843</td>\n",
       "      <td>0.049084</td>\n",
       "      <td>0.231278</td>\n",
       "      <td>0.149645</td>\n",
       "      <td>0.062968</td>\n",
       "      <td>0.00</td>\n",
       "    </tr>\n",
       "    <tr>\n",
       "      <th>262</th>\n",
       "      <td>0.000175</td>\n",
       "      <td>0.023973</td>\n",
       "      <td>0.054532</td>\n",
       "      <td>0.020068</td>\n",
       "      <td>0.076208</td>\n",
       "      <td>0.22</td>\n",
       "    </tr>\n",
       "  </tbody>\n",
       "</table>\n",
       "<p>263 rows × 6 columns</p>\n",
       "</div>"
      ],
      "text/plain": [
       "     Total issued ordinary shares  Number of shares available for sale  \\\n",
       "0                        0.000210                             0.024360   \n",
       "1                        0.001269                             0.030674   \n",
       "2                        0.000089                             0.049084   \n",
       "3                        0.000021                             0.023874   \n",
       "4                        0.000066                             0.049084   \n",
       "..                            ...                                  ...   \n",
       "258                      0.000175                             0.049084   \n",
       "259                      0.002155                             0.028584   \n",
       "260                      0.005737                             0.000000   \n",
       "261                      0.001843                             0.049084   \n",
       "262                      0.000175                             0.023973   \n",
       "\n",
       "     Number of employees  Number of shareholders  Price/Profit  Debt/Assets  \n",
       "0               0.231278                0.007811      0.067302         0.27  \n",
       "1               0.231278                0.076527      0.111870         0.00  \n",
       "2               0.231278                0.149645      0.250690         0.07  \n",
       "3               0.231278                0.096115      0.083222         0.14  \n",
       "4               0.231278                0.149645      0.107258         0.84  \n",
       "..                   ...                     ...           ...          ...  \n",
       "258             0.231278                0.149645      0.022776         0.29  \n",
       "259             0.099216                0.872961      0.023721         0.08  \n",
       "260             0.231278                0.692601      0.013240         0.24  \n",
       "261             0.231278                0.149645      0.062968         0.00  \n",
       "262             0.054532                0.020068      0.076208         0.22  \n",
       "\n",
       "[263 rows x 6 columns]"
      ]
     },
     "execution_count": 10,
     "metadata": {},
     "output_type": "execute_result"
    }
   ],
   "source": [
    "sc_train"
   ]
  },
  {
   "cell_type": "code",
   "execution_count": 11,
   "metadata": {},
   "outputs": [],
   "source": [
    "# Отберем необходимые параметры\n",
    "x_train = sc_train[x_columns]\n",
    "x_val = sc_val[x_columns]\n",
    "\n",
    "y_train = (sc_train[y_column].values).flatten()\n",
    "y_val = (sc_val[y_column].values).flatten()"
   ]
  },
  {
   "cell_type": "code",
   "execution_count": 12,
   "metadata": {},
   "outputs": [],
   "source": [
    "# Создадим простую модель логистической регрессии\n",
    "r_models = []\n",
    "\n",
    "r_models.append(ElasticNet(alpha=0.5))\n",
    "r_models.append(ElasticNet(alpha=0.5, l1_ratio=0.75))\n",
    "r_models.append(LinearRegression())\n",
    "r_models.append(Lasso())\n",
    "\n",
    "r_models.append(DecisionTreeRegressor())\n",
    "\n",
    "r_models.append(SVR())\n",
    "\n",
    "r_models.append(Ridge())\n",
    "\n",
    "r_models.append(KNeighborsRegressor(n_neighbors=5))\n",
    "r_models.append(KNeighborsRegressor(n_neighbors=10))\n",
    "r_models.append(KNeighborsRegressor(n_neighbors=15))\n",
    "\n",
    "r_models.append(SVR(kernel='linear'))\n",
    "r_models.append(SVR(kernel='poly'))\n",
    "r_models.append(SVR(kernel='rbf'))\n",
    "r_models.append(SVR(kernel='sigmoid'))\n",
    "\n",
    "r_models.append(DecisionTreeRegressor(criterion='squared_error'))\n",
    "r_models.append(DecisionTreeRegressor(criterion='friedman_mse'))\n",
    "r_models.append(DecisionTreeRegressor(criterion='absolute_error'))"
   ]
  },
  {
   "cell_type": "code",
   "execution_count": 13,
   "metadata": {},
   "outputs": [
    {
     "data": {
      "text/plain": [
       "[ElasticNet(alpha=0.5),\n",
       " ElasticNet(alpha=0.5, l1_ratio=0.75),\n",
       " LinearRegression(),\n",
       " Lasso(),\n",
       " DecisionTreeRegressor(),\n",
       " SVR(),\n",
       " Ridge(),\n",
       " KNeighborsRegressor(),\n",
       " KNeighborsRegressor(n_neighbors=10),\n",
       " KNeighborsRegressor(n_neighbors=15),\n",
       " SVR(kernel='linear'),\n",
       " SVR(kernel='poly'),\n",
       " SVR(),\n",
       " SVR(kernel='sigmoid'),\n",
       " DecisionTreeRegressor(),\n",
       " DecisionTreeRegressor(criterion='friedman_mse'),\n",
       " DecisionTreeRegressor(criterion='absolute_error')]"
      ]
     },
     "execution_count": 13,
     "metadata": {},
     "output_type": "execute_result"
    }
   ],
   "source": [
    "r_models"
   ]
  },
  {
   "cell_type": "code",
   "execution_count": 14,
   "metadata": {
    "scrolled": true
   },
   "outputs": [
    {
     "name": "stdout",
     "output_type": "stream",
     "text": [
      "ElasticNet(alpha=0.5)\n",
      "ElasticNet(alpha=0.5, l1_ratio=0.75)\n",
      "LinearRegression()\n",
      "Lasso()\n",
      "DecisionTreeRegressor()\n",
      "SVR()\n",
      "Ridge()\n",
      "KNeighborsRegressor()\n",
      "KNeighborsRegressor(n_neighbors=10)\n",
      "KNeighborsRegressor(n_neighbors=15)\n",
      "SVR(kernel='linear')\n",
      "SVR(kernel='poly')\n",
      "SVR()\n",
      "SVR(kernel='sigmoid')\n",
      "DecisionTreeRegressor()\n",
      "DecisionTreeRegressor(criterion='friedman_mse')\n",
      "DecisionTreeRegressor(criterion='absolute_error')\n"
     ]
    }
   ],
   "source": [
    "# Обучим модель\n",
    "for model in r_models:\n",
    "    print(model)\n",
    "    model.fit(x_train, y_train)"
   ]
  },
  {
   "cell_type": "code",
   "execution_count": 15,
   "metadata": {},
   "outputs": [
    {
     "name": "stdout",
     "output_type": "stream",
     "text": [
      "ElasticNet(alpha=0.5) \t 0.10761786303155493\n",
      "ElasticNet(alpha=0.5, l1_ratio=0.75) \t 0.10761786303155493\n",
      "LinearRegression() \t 0.10451727057366884\n",
      "Lasso() \t 0.10761786303155493\n",
      "DecisionTreeRegressor() \t 0.07585280319469707\n",
      "SVR() \t 0.10503004652739426\n",
      "Ridge() \t 0.10476260814101748\n",
      "KNeighborsRegressor() \t 0.07171016567441502\n",
      "KNeighborsRegressor(n_neighbors=10) \t 0.08246976943513482\n",
      "KNeighborsRegressor(n_neighbors=15) \t 0.08037212730284253\n",
      "SVR(kernel='linear') \t 0.10831460272809768\n",
      "SVR(kernel='poly') \t 0.1169274772985803\n",
      "SVR() \t 0.10503004652739426\n",
      "SVR(kernel='sigmoid') \t 38.29618246313109\n",
      "DecisionTreeRegressor() \t 0.07879825774015162\n",
      "DecisionTreeRegressor(criterion='friedman_mse') \t 0.08426037895227284\n",
      "DecisionTreeRegressor(criterion='absolute_error') \t 0.03900533866033437\n"
     ]
    }
   ],
   "source": [
    "# Проверим работу обученной модели на валидационной выборке\n",
    "mses = []\n",
    "for model in r_models:\n",
    "    val_pred = model.predict(x_val)\n",
    "    mse = mean_squared_error(y_val, val_pred)\n",
    "    mses.append(mse)\n",
    "    print(model, '\\t', mse)"
   ]
  },
  {
   "cell_type": "code",
   "execution_count": 16,
   "metadata": {},
   "outputs": [
    {
     "data": {
      "text/plain": [
       "DecisionTreeRegressor(criterion='absolute_error')"
      ]
     },
     "execution_count": 16,
     "metadata": {},
     "output_type": "execute_result"
    }
   ],
   "source": [
    "i_min = mses.index(min(mses))\n",
    "best_r_model = r_models[i_min]\n",
    "best_r_model"
   ]
  },
  {
   "cell_type": "code",
   "execution_count": 17,
   "metadata": {},
   "outputs": [
    {
     "data": {
      "text/plain": [
       "array([0.15      , 0.41      , 0.31      , 0.11      , 0.31      ,\n",
       "       0.04      , 0.02      , 1.52      , 0.27      , 0.01      ,\n",
       "       0.84      , 0.23      , 0.27      , 0.55      , 0.47      ,\n",
       "       0.61      , 0.1       , 0.47      , 0.62      , 0.37      ,\n",
       "       0.53      , 0.55      , 0.41      , 0.05      , 0.5       ,\n",
       "       0.        , 0.54      , 1.52      , 0.        , 0.3       ,\n",
       "       0.24      , 0.09      , 0.53      , 0.51      , 0.31      ,\n",
       "       0.27      , 1.3       , 0.21      , 0.14      , 0.2       ,\n",
       "       0.2       , 0.16      , 0.        , 0.32      , 0.62      ,\n",
       "       0.37      , 0.13      , 0.55      , 0.24      , 0.29      ,\n",
       "       0.22      , 0.48612469, 0.2       , 0.29      , 0.55      ,\n",
       "       0.1       , 0.        , 0.18      , 0.8       , 0.63      ,\n",
       "       0.11      , 0.09      , 0.2       , 0.18      , 0.31      ,\n",
       "       0.41      ])"
      ]
     },
     "execution_count": 17,
     "metadata": {},
     "output_type": "execute_result"
    }
   ],
   "source": [
    "val_pred"
   ]
  },
  {
   "cell_type": "code",
   "execution_count": 18,
   "metadata": {},
   "outputs": [],
   "source": [
    "test = pd.read_csv(\"datasets/rus_stocks_funds_test.csv\")"
   ]
  },
  {
   "cell_type": "code",
   "execution_count": 19,
   "metadata": {},
   "outputs": [],
   "source": [
    "test[y_column] = 0.0"
   ]
  },
  {
   "cell_type": "code",
   "execution_count": 20,
   "metadata": {},
   "outputs": [
    {
     "data": {
      "text/html": [
       "<div>\n",
       "<style scoped>\n",
       "    .dataframe tbody tr th:only-of-type {\n",
       "        vertical-align: middle;\n",
       "    }\n",
       "\n",
       "    .dataframe tbody tr th {\n",
       "        vertical-align: top;\n",
       "    }\n",
       "\n",
       "    .dataframe thead th {\n",
       "        text-align: right;\n",
       "    }\n",
       "</style>\n",
       "<table border=\"1\" class=\"dataframe\">\n",
       "  <thead>\n",
       "    <tr style=\"text-align: right;\">\n",
       "      <th></th>\n",
       "      <th>Total issued ordinary shares</th>\n",
       "      <th>Number of shares available for sale</th>\n",
       "      <th>Number of employees</th>\n",
       "      <th>Number of shareholders</th>\n",
       "      <th>Price/Profit</th>\n",
       "      <th>Debt/Assets</th>\n",
       "    </tr>\n",
       "  </thead>\n",
       "  <tbody>\n",
       "    <tr>\n",
       "      <th>0</th>\n",
       "      <td>3.644700e+11</td>\n",
       "      <td>1.017600e+11</td>\n",
       "      <td>5840.0000</td>\n",
       "      <td>306350.000000</td>\n",
       "      <td>7.860000</td>\n",
       "      <td>0.0</td>\n",
       "    </tr>\n",
       "    <tr>\n",
       "      <th>1</th>\n",
       "      <td>6.968900e+08</td>\n",
       "      <td>4.339700e+08</td>\n",
       "      <td>110809.6875</td>\n",
       "      <td>39210.000000</td>\n",
       "      <td>5.670000</td>\n",
       "      <td>0.0</td>\n",
       "    </tr>\n",
       "    <tr>\n",
       "      <th>2</th>\n",
       "      <td>1.580000e+07</td>\n",
       "      <td>3.880000e+06</td>\n",
       "      <td>110809.6875</td>\n",
       "      <td>29.000000</td>\n",
       "      <td>7.060000</td>\n",
       "      <td>0.0</td>\n",
       "    </tr>\n",
       "    <tr>\n",
       "      <th>3</th>\n",
       "      <td>1.295000e+08</td>\n",
       "      <td>3.573000e+07</td>\n",
       "      <td>110809.6875</td>\n",
       "      <td>25.000000</td>\n",
       "      <td>14.940000</td>\n",
       "      <td>0.0</td>\n",
       "    </tr>\n",
       "    <tr>\n",
       "      <th>4</th>\n",
       "      <td>2.400000e+09</td>\n",
       "      <td>1.309960e+11</td>\n",
       "      <td>110809.6875</td>\n",
       "      <td>61044.948718</td>\n",
       "      <td>15.525191</td>\n",
       "      <td>0.0</td>\n",
       "    </tr>\n",
       "    <tr>\n",
       "      <th>...</th>\n",
       "      <td>...</td>\n",
       "      <td>...</td>\n",
       "      <td>...</td>\n",
       "      <td>...</td>\n",
       "      <td>...</td>\n",
       "      <td>...</td>\n",
       "    </tr>\n",
       "    <tr>\n",
       "      <th>77</th>\n",
       "      <td>1.528600e+08</td>\n",
       "      <td>1.309960e+11</td>\n",
       "      <td>110809.6875</td>\n",
       "      <td>61044.948718</td>\n",
       "      <td>6.270000</td>\n",
       "      <td>0.0</td>\n",
       "    </tr>\n",
       "    <tr>\n",
       "      <th>78</th>\n",
       "      <td>1.295000e+08</td>\n",
       "      <td>2.634000e+07</td>\n",
       "      <td>110809.6875</td>\n",
       "      <td>25.000000</td>\n",
       "      <td>15.525191</td>\n",
       "      <td>0.0</td>\n",
       "    </tr>\n",
       "    <tr>\n",
       "      <th>79</th>\n",
       "      <td>2.246000e+10</td>\n",
       "      <td>0.000000e+00</td>\n",
       "      <td>281550.0000</td>\n",
       "      <td>61044.948718</td>\n",
       "      <td>6.340000</td>\n",
       "      <td>0.0</td>\n",
       "    </tr>\n",
       "    <tr>\n",
       "      <th>80</th>\n",
       "      <td>1.295000e+08</td>\n",
       "      <td>3.371000e+07</td>\n",
       "      <td>110809.6875</td>\n",
       "      <td>25.000000</td>\n",
       "      <td>6.320000</td>\n",
       "      <td>0.0</td>\n",
       "    </tr>\n",
       "    <tr>\n",
       "      <th>81</th>\n",
       "      <td>2.250000e+09</td>\n",
       "      <td>1.309960e+11</td>\n",
       "      <td>110809.6875</td>\n",
       "      <td>61044.948718</td>\n",
       "      <td>9.530000</td>\n",
       "      <td>0.0</td>\n",
       "    </tr>\n",
       "  </tbody>\n",
       "</table>\n",
       "<p>82 rows × 6 columns</p>\n",
       "</div>"
      ],
      "text/plain": [
       "    Total issued ordinary shares  Number of shares available for sale  \\\n",
       "0                   3.644700e+11                         1.017600e+11   \n",
       "1                   6.968900e+08                         4.339700e+08   \n",
       "2                   1.580000e+07                         3.880000e+06   \n",
       "3                   1.295000e+08                         3.573000e+07   \n",
       "4                   2.400000e+09                         1.309960e+11   \n",
       "..                           ...                                  ...   \n",
       "77                  1.528600e+08                         1.309960e+11   \n",
       "78                  1.295000e+08                         2.634000e+07   \n",
       "79                  2.246000e+10                         0.000000e+00   \n",
       "80                  1.295000e+08                         3.371000e+07   \n",
       "81                  2.250000e+09                         1.309960e+11   \n",
       "\n",
       "    Number of employees  Number of shareholders  Price/Profit  Debt/Assets  \n",
       "0             5840.0000           306350.000000      7.860000          0.0  \n",
       "1           110809.6875            39210.000000      5.670000          0.0  \n",
       "2           110809.6875               29.000000      7.060000          0.0  \n",
       "3           110809.6875               25.000000     14.940000          0.0  \n",
       "4           110809.6875            61044.948718     15.525191          0.0  \n",
       "..                  ...                     ...           ...          ...  \n",
       "77          110809.6875            61044.948718      6.270000          0.0  \n",
       "78          110809.6875               25.000000     15.525191          0.0  \n",
       "79          281550.0000            61044.948718      6.340000          0.0  \n",
       "80          110809.6875               25.000000      6.320000          0.0  \n",
       "81          110809.6875            61044.948718      9.530000          0.0  \n",
       "\n",
       "[82 rows x 6 columns]"
      ]
     },
     "execution_count": 20,
     "metadata": {},
     "output_type": "execute_result"
    }
   ],
   "source": [
    "test"
   ]
  },
  {
   "cell_type": "code",
   "execution_count": 21,
   "metadata": {},
   "outputs": [],
   "source": [
    "sc_test = pd.DataFrame(ct.transform(test))\n",
    "sc_test.columns = column_names"
   ]
  },
  {
   "cell_type": "code",
   "execution_count": 22,
   "metadata": {},
   "outputs": [],
   "source": [
    "x_test = sc_test[x_columns]"
   ]
  },
  {
   "cell_type": "code",
   "execution_count": 23,
   "metadata": {},
   "outputs": [],
   "source": [
    "test[y_column] = model.predict(x_test)"
   ]
  },
  {
   "cell_type": "code",
   "execution_count": 24,
   "metadata": {},
   "outputs": [
    {
     "data": {
      "text/html": [
       "<div>\n",
       "<style scoped>\n",
       "    .dataframe tbody tr th:only-of-type {\n",
       "        vertical-align: middle;\n",
       "    }\n",
       "\n",
       "    .dataframe tbody tr th {\n",
       "        vertical-align: top;\n",
       "    }\n",
       "\n",
       "    .dataframe thead th {\n",
       "        text-align: right;\n",
       "    }\n",
       "</style>\n",
       "<table border=\"1\" class=\"dataframe\">\n",
       "  <thead>\n",
       "    <tr style=\"text-align: right;\">\n",
       "      <th></th>\n",
       "      <th>Total issued ordinary shares</th>\n",
       "      <th>Number of shares available for sale</th>\n",
       "      <th>Number of employees</th>\n",
       "      <th>Number of shareholders</th>\n",
       "      <th>Price/Profit</th>\n",
       "      <th>Debt/Assets</th>\n",
       "    </tr>\n",
       "  </thead>\n",
       "  <tbody>\n",
       "    <tr>\n",
       "      <th>0</th>\n",
       "      <td>3.644700e+11</td>\n",
       "      <td>1.017600e+11</td>\n",
       "      <td>5840.0000</td>\n",
       "      <td>306350.000000</td>\n",
       "      <td>7.860000</td>\n",
       "      <td>0.200</td>\n",
       "    </tr>\n",
       "    <tr>\n",
       "      <th>1</th>\n",
       "      <td>6.968900e+08</td>\n",
       "      <td>4.339700e+08</td>\n",
       "      <td>110809.6875</td>\n",
       "      <td>39210.000000</td>\n",
       "      <td>5.670000</td>\n",
       "      <td>0.120</td>\n",
       "    </tr>\n",
       "    <tr>\n",
       "      <th>2</th>\n",
       "      <td>1.580000e+07</td>\n",
       "      <td>3.880000e+06</td>\n",
       "      <td>110809.6875</td>\n",
       "      <td>29.000000</td>\n",
       "      <td>7.060000</td>\n",
       "      <td>0.270</td>\n",
       "    </tr>\n",
       "    <tr>\n",
       "      <th>3</th>\n",
       "      <td>1.295000e+08</td>\n",
       "      <td>3.573000e+07</td>\n",
       "      <td>110809.6875</td>\n",
       "      <td>25.000000</td>\n",
       "      <td>14.940000</td>\n",
       "      <td>0.490</td>\n",
       "    </tr>\n",
       "    <tr>\n",
       "      <th>4</th>\n",
       "      <td>2.400000e+09</td>\n",
       "      <td>1.309960e+11</td>\n",
       "      <td>110809.6875</td>\n",
       "      <td>61044.948718</td>\n",
       "      <td>15.525191</td>\n",
       "      <td>0.705</td>\n",
       "    </tr>\n",
       "  </tbody>\n",
       "</table>\n",
       "</div>"
      ],
      "text/plain": [
       "   Total issued ordinary shares  Number of shares available for sale  \\\n",
       "0                  3.644700e+11                         1.017600e+11   \n",
       "1                  6.968900e+08                         4.339700e+08   \n",
       "2                  1.580000e+07                         3.880000e+06   \n",
       "3                  1.295000e+08                         3.573000e+07   \n",
       "4                  2.400000e+09                         1.309960e+11   \n",
       "\n",
       "   Number of employees  Number of shareholders  Price/Profit  Debt/Assets  \n",
       "0            5840.0000           306350.000000      7.860000        0.200  \n",
       "1          110809.6875            39210.000000      5.670000        0.120  \n",
       "2          110809.6875               29.000000      7.060000        0.270  \n",
       "3          110809.6875               25.000000     14.940000        0.490  \n",
       "4          110809.6875            61044.948718     15.525191        0.705  "
      ]
     },
     "execution_count": 24,
     "metadata": {},
     "output_type": "execute_result"
    }
   ],
   "source": [
    "test.head()"
   ]
  },
  {
   "cell_type": "code",
   "execution_count": 25,
   "metadata": {},
   "outputs": [],
   "source": [
    "test.to_csv('task5_results/Ананьин А..csv', index=False)"
   ]
  },
  {
   "cell_type": "code",
   "execution_count": null,
   "metadata": {},
   "outputs": [],
   "source": []
  },
  {
   "cell_type": "code",
   "execution_count": null,
   "metadata": {},
   "outputs": [],
   "source": []
  }
 ],
 "metadata": {
  "kernelspec": {
   "display_name": "Python 3 (ipykernel)",
   "language": "python",
   "name": "python3"
  },
  "language_info": {
   "codemirror_mode": {
    "name": "ipython",
    "version": 3
   },
   "file_extension": ".py",
   "mimetype": "text/x-python",
   "name": "python",
   "nbconvert_exporter": "python",
   "pygments_lexer": "ipython3",
   "version": "3.7.12"
  }
 },
 "nbformat": 4,
 "nbformat_minor": 4
}
