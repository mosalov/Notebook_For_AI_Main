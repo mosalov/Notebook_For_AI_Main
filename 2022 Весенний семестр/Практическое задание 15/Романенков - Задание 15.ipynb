{
 "cells": [
  {
   "cell_type": "code",
   "execution_count": 117,
   "metadata": {},
   "outputs": [],
   "source": [
    "# Зависимости\n",
    "import pandas as pd\n",
    "import numpy as np\n",
    "import matplotlib.pyplot as plt\n",
    "import random\n",
    "import os\n",
    "\n",
    "from sklearn.model_selection import train_test_split\n",
    "from sklearn.preprocessing import MinMaxScaler\n",
    "from sklearn.compose import ColumnTransformer, TransformedTargetRegressor \n",
    "\n",
    "from sklearn.linear_model import LinearRegression\n",
    "from sklearn.metrics import mean_squared_error"
   ]
  },
  {
   "cell_type": "code",
   "execution_count": 118,
   "metadata": {},
   "outputs": [],
   "source": [
    "# Инициализируем все известные генераторы случаынйх чисел / Setting all known random seeds\n",
    "my_code = \"Романенков АА\"\n",
    "seed_limit = 2 ** 32\n",
    "my_seed = int.from_bytes(my_code.encode(), \"little\") % seed_limit\n",
    "\n",
    "os.environ['PYTHONHASHSEED']=str(my_seed)\n",
    "\n",
    "random.seed(my_seed)\n",
    "\n",
    "np.random.seed(my_seed)"
   ]
  },
  {
   "cell_type": "code",
   "execution_count": 119,
   "metadata": {},
   "outputs": [],
   "source": [
    "# Читаем данные из файла\n",
    "train_data = pd.read_csv(\"datasets/rus_stocks_funds_train.csv\")"
   ]
  },
  {
   "cell_type": "code",
   "execution_count": 120,
   "metadata": {
    "scrolled": true
   },
   "outputs": [
    {
     "data": {
      "text/html": [
       "<div>\n",
       "<style scoped>\n",
       "    .dataframe tbody tr th:only-of-type {\n",
       "        vertical-align: middle;\n",
       "    }\n",
       "\n",
       "    .dataframe tbody tr th {\n",
       "        vertical-align: top;\n",
       "    }\n",
       "\n",
       "    .dataframe thead th {\n",
       "        text-align: right;\n",
       "    }\n",
       "</style>\n",
       "<table border=\"1\" class=\"dataframe\">\n",
       "  <thead>\n",
       "    <tr style=\"text-align: right;\">\n",
       "      <th></th>\n",
       "      <th>Total issued ordinary shares</th>\n",
       "      <th>Number of shares available for sale</th>\n",
       "      <th>Number of employees</th>\n",
       "      <th>Number of shareholders</th>\n",
       "      <th>Price/Profit</th>\n",
       "      <th>Debt/Assets</th>\n",
       "    </tr>\n",
       "  </thead>\n",
       "  <tbody>\n",
       "    <tr>\n",
       "      <th>0</th>\n",
       "      <td>7.210000e+09</td>\n",
       "      <td>2.870000e+09</td>\n",
       "      <td>110809.6875</td>\n",
       "      <td>3190.000000</td>\n",
       "      <td>9.870000</td>\n",
       "      <td>0.27</td>\n",
       "    </tr>\n",
       "    <tr>\n",
       "      <th>1</th>\n",
       "      <td>1.060000e+10</td>\n",
       "      <td>1.130000e+09</td>\n",
       "      <td>318000.0000</td>\n",
       "      <td>28230.000000</td>\n",
       "      <td>13.910000</td>\n",
       "      <td>0.30</td>\n",
       "    </tr>\n",
       "    <tr>\n",
       "      <th>2</th>\n",
       "      <td>2.249000e+10</td>\n",
       "      <td>1.027000e+10</td>\n",
       "      <td>329570.0000</td>\n",
       "      <td>61044.948718</td>\n",
       "      <td>4.080000</td>\n",
       "      <td>0.25</td>\n",
       "    </tr>\n",
       "    <tr>\n",
       "      <th>3</th>\n",
       "      <td>4.995200e+08</td>\n",
       "      <td>1.964200e+08</td>\n",
       "      <td>59380.0000</td>\n",
       "      <td>81.000000</td>\n",
       "      <td>2.910000</td>\n",
       "      <td>1.31</td>\n",
       "    </tr>\n",
       "    <tr>\n",
       "      <th>4</th>\n",
       "      <td>9.520000e+09</td>\n",
       "      <td>1.309960e+11</td>\n",
       "      <td>110809.6875</td>\n",
       "      <td>61044.948718</td>\n",
       "      <td>15.525191</td>\n",
       "      <td>0.35</td>\n",
       "    </tr>\n",
       "  </tbody>\n",
       "</table>\n",
       "</div>"
      ],
      "text/plain": [
       "   Total issued ordinary shares  Number of shares available for sale  \\\n",
       "0                  7.210000e+09                         2.870000e+09   \n",
       "1                  1.060000e+10                         1.130000e+09   \n",
       "2                  2.249000e+10                         1.027000e+10   \n",
       "3                  4.995200e+08                         1.964200e+08   \n",
       "4                  9.520000e+09                         1.309960e+11   \n",
       "\n",
       "   Number of employees  Number of shareholders  Price/Profit  Debt/Assets  \n",
       "0          110809.6875             3190.000000      9.870000         0.27  \n",
       "1          318000.0000            28230.000000     13.910000         0.30  \n",
       "2          329570.0000            61044.948718      4.080000         0.25  \n",
       "3           59380.0000               81.000000      2.910000         1.31  \n",
       "4          110809.6875            61044.948718     15.525191         0.35  "
      ]
     },
     "execution_count": 120,
     "metadata": {},
     "output_type": "execute_result"
    }
   ],
   "source": [
    "train_data.head()"
   ]
  },
  {
   "cell_type": "code",
   "execution_count": 121,
   "metadata": {},
   "outputs": [],
   "source": [
    "#pairplot(train_data)"
   ]
  },
  {
   "cell_type": "code",
   "execution_count": 122,
   "metadata": {},
   "outputs": [
    {
     "name": "stdout",
     "output_type": "stream",
     "text": [
      "33\n"
     ]
    }
   ],
   "source": [
    "# Определим размер валидационной выборки\n",
    "val_size = round(0.1*len(train_data))\n",
    "print(val_size)"
   ]
  },
  {
   "cell_type": "code",
   "execution_count": 123,
   "metadata": {},
   "outputs": [
    {
     "name": "stdout",
     "output_type": "stream",
     "text": [
      "296 33\n"
     ]
    }
   ],
   "source": [
    "# Создадим обучающую и валидационную выборки\n",
    "random_state = my_seed\n",
    "train, val = train_test_split(train_data, test_size=val_size, random_state=random_state)\n",
    "print(len(train), len(val))"
   ]
  },
  {
   "cell_type": "code",
   "execution_count": 124,
   "metadata": {},
   "outputs": [
    {
     "data": {
      "text/plain": [
       "ColumnTransformer(remainder='passthrough',\n",
       "                  transformers=[('numerical', MinMaxScaler(),\n",
       "                                 ['Total issued ordinary shares',\n",
       "                                  'Number of shares available for sale',\n",
       "                                  'Number of employees',\n",
       "                                  'Number of shareholders', 'Price/Profit'])])"
      ]
     },
     "execution_count": 124,
     "metadata": {},
     "output_type": "execute_result"
    }
   ],
   "source": [
    "# Значения в числовых столбцах преобразуем к отрезку [0,1].\n",
    "# Для настройки скалировщика используем только обучающую выборку.\n",
    "y_column = 'Debt/Assets'\n",
    "x_columns = [e for e in train_data.columns if e != y_column]\n",
    "\n",
    "ct = ColumnTransformer(transformers=[('numerical', MinMaxScaler(), x_columns)], remainder='passthrough')\n",
    "\n",
    "ct.fit(train)"
   ]
  },
  {
   "cell_type": "code",
   "execution_count": 125,
   "metadata": {},
   "outputs": [],
   "source": [
    "# Преобразуем значения, тип данных приводим к DataFrame\n",
    "sc_train = pd.DataFrame(ct.transform(train))\n",
    "sc_val = pd.DataFrame(ct.transform(val))"
   ]
  },
  {
   "cell_type": "code",
   "execution_count": 126,
   "metadata": {},
   "outputs": [],
   "source": [
    "# Устанавливаем названия столбцов\n",
    "column_names = list(x_columns) + [y_column]\n",
    "sc_train.columns = column_names\n",
    "sc_val.columns = column_names"
   ]
  },
  {
   "cell_type": "code",
   "execution_count": 127,
   "metadata": {},
   "outputs": [
    {
     "data": {
      "text/html": [
       "<div>\n",
       "<style scoped>\n",
       "    .dataframe tbody tr th:only-of-type {\n",
       "        vertical-align: middle;\n",
       "    }\n",
       "\n",
       "    .dataframe tbody tr th {\n",
       "        vertical-align: top;\n",
       "    }\n",
       "\n",
       "    .dataframe thead th {\n",
       "        text-align: right;\n",
       "    }\n",
       "</style>\n",
       "<table border=\"1\" class=\"dataframe\">\n",
       "  <thead>\n",
       "    <tr style=\"text-align: right;\">\n",
       "      <th></th>\n",
       "      <th>Total issued ordinary shares</th>\n",
       "      <th>Number of shares available for sale</th>\n",
       "      <th>Number of employees</th>\n",
       "      <th>Number of shareholders</th>\n",
       "      <th>Price/Profit</th>\n",
       "      <th>Debt/Assets</th>\n",
       "    </tr>\n",
       "  </thead>\n",
       "  <tbody>\n",
       "    <tr>\n",
       "      <th>0</th>\n",
       "      <td>0.000021</td>\n",
       "      <td>0.023885</td>\n",
       "      <td>0.231278</td>\n",
       "      <td>0.000017</td>\n",
       "      <td>0.044349</td>\n",
       "      <td>0.58</td>\n",
       "    </tr>\n",
       "    <tr>\n",
       "      <th>1</th>\n",
       "      <td>0.000066</td>\n",
       "      <td>0.049084</td>\n",
       "      <td>0.231278</td>\n",
       "      <td>0.149645</td>\n",
       "      <td>0.060552</td>\n",
       "      <td>0.84</td>\n",
       "    </tr>\n",
       "    <tr>\n",
       "      <th>2</th>\n",
       "      <td>0.000009</td>\n",
       "      <td>0.023860</td>\n",
       "      <td>0.015184</td>\n",
       "      <td>0.149645</td>\n",
       "      <td>0.046720</td>\n",
       "      <td>0.07</td>\n",
       "    </tr>\n",
       "    <tr>\n",
       "      <th>3</th>\n",
       "      <td>0.000657</td>\n",
       "      <td>0.049084</td>\n",
       "      <td>0.231278</td>\n",
       "      <td>0.149645</td>\n",
       "      <td>0.023316</td>\n",
       "      <td>0.12</td>\n",
       "    </tr>\n",
       "    <tr>\n",
       "      <th>4</th>\n",
       "      <td>0.000309</td>\n",
       "      <td>0.024024</td>\n",
       "      <td>0.670055</td>\n",
       "      <td>0.069197</td>\n",
       "      <td>0.056029</td>\n",
       "      <td>0.30</td>\n",
       "    </tr>\n",
       "    <tr>\n",
       "      <th>...</th>\n",
       "      <td>...</td>\n",
       "      <td>...</td>\n",
       "      <td>...</td>\n",
       "      <td>...</td>\n",
       "      <td>...</td>\n",
       "      <td>...</td>\n",
       "    </tr>\n",
       "    <tr>\n",
       "      <th>291</th>\n",
       "      <td>0.000646</td>\n",
       "      <td>0.025647</td>\n",
       "      <td>0.991105</td>\n",
       "      <td>0.111928</td>\n",
       "      <td>0.012690</td>\n",
       "      <td>0.18</td>\n",
       "    </tr>\n",
       "    <tr>\n",
       "      <th>292</th>\n",
       "      <td>0.000013</td>\n",
       "      <td>0.023854</td>\n",
       "      <td>0.021199</td>\n",
       "      <td>0.149645</td>\n",
       "      <td>0.060464</td>\n",
       "      <td>0.42</td>\n",
       "    </tr>\n",
       "    <tr>\n",
       "      <th>293</th>\n",
       "      <td>0.000065</td>\n",
       "      <td>0.024067</td>\n",
       "      <td>0.231278</td>\n",
       "      <td>0.098469</td>\n",
       "      <td>0.033986</td>\n",
       "      <td>0.06</td>\n",
       "    </tr>\n",
       "    <tr>\n",
       "      <th>294</th>\n",
       "      <td>0.004723</td>\n",
       "      <td>0.027820</td>\n",
       "      <td>0.231278</td>\n",
       "      <td>0.692601</td>\n",
       "      <td>0.000000</td>\n",
       "      <td>0.27</td>\n",
       "    </tr>\n",
       "    <tr>\n",
       "      <th>295</th>\n",
       "      <td>0.000278</td>\n",
       "      <td>0.024397</td>\n",
       "      <td>0.231278</td>\n",
       "      <td>0.000221</td>\n",
       "      <td>0.161500</td>\n",
       "      <td>0.63</td>\n",
       "    </tr>\n",
       "  </tbody>\n",
       "</table>\n",
       "<p>296 rows × 6 columns</p>\n",
       "</div>"
      ],
      "text/plain": [
       "     Total issued ordinary shares  Number of shares available for sale  \\\n",
       "0                        0.000021                             0.023885   \n",
       "1                        0.000066                             0.049084   \n",
       "2                        0.000009                             0.023860   \n",
       "3                        0.000657                             0.049084   \n",
       "4                        0.000309                             0.024024   \n",
       "..                            ...                                  ...   \n",
       "291                      0.000646                             0.025647   \n",
       "292                      0.000013                             0.023854   \n",
       "293                      0.000065                             0.024067   \n",
       "294                      0.004723                             0.027820   \n",
       "295                      0.000278                             0.024397   \n",
       "\n",
       "     Number of employees  Number of shareholders  Price/Profit  Debt/Assets  \n",
       "0               0.231278                0.000017      0.044349         0.58  \n",
       "1               0.231278                0.149645      0.060552         0.84  \n",
       "2               0.015184                0.149645      0.046720         0.07  \n",
       "3               0.231278                0.149645      0.023316         0.12  \n",
       "4               0.670055                0.069197      0.056029         0.30  \n",
       "..                   ...                     ...           ...          ...  \n",
       "291             0.991105                0.111928      0.012690         0.18  \n",
       "292             0.021199                0.149645      0.060464         0.42  \n",
       "293             0.231278                0.098469      0.033986         0.06  \n",
       "294             0.231278                0.692601      0.000000         0.27  \n",
       "295             0.231278                0.000221      0.161500         0.63  \n",
       "\n",
       "[296 rows x 6 columns]"
      ]
     },
     "execution_count": 127,
     "metadata": {},
     "output_type": "execute_result"
    }
   ],
   "source": [
    "sc_train"
   ]
  },
  {
   "cell_type": "code",
   "execution_count": 128,
   "metadata": {},
   "outputs": [],
   "source": [
    "# Отберем необходимые параметры\n",
    "x_train = sc_train[x_columns]\n",
    "x_val = sc_val[x_columns]\n",
    "\n",
    "y_train = (sc_train[y_column].values).flatten()\n",
    "y_val = (sc_val[y_column].values).flatten()"
   ]
  },
  {
   "cell_type": "code",
   "execution_count": 129,
   "metadata": {},
   "outputs": [],
   "source": [
    "# Создадим простую модель логистической регрессии\n",
    "model = TransformedTargetRegressor(regressor=LinearRegression(), transformer=MinMaxScaler())"
   ]
  },
  {
   "cell_type": "code",
   "execution_count": 130,
   "metadata": {
    "scrolled": true
   },
   "outputs": [
    {
     "data": {
      "text/plain": [
       "TransformedTargetRegressor(regressor=LinearRegression(),\n",
       "                           transformer=MinMaxScaler())"
      ]
     },
     "execution_count": 130,
     "metadata": {},
     "output_type": "execute_result"
    }
   ],
   "source": [
    "# Обучим модель\n",
    "model.fit(x_train, y_train)"
   ]
  },
  {
   "cell_type": "code",
   "execution_count": 131,
   "metadata": {},
   "outputs": [
    {
     "name": "stdout",
     "output_type": "stream",
     "text": [
      "0.035279220756680794\n"
     ]
    }
   ],
   "source": [
    "# Проверим работу обученной модели на валидационной выборке\n",
    "pred_val = model.predict(x_val)\n",
    "mse = mean_squared_error(y_val, pred_val)\n",
    "print(mse)"
   ]
  },
  {
   "cell_type": "code",
   "execution_count": 113,
   "metadata": {},
   "outputs": [
    {
     "data": {
      "text/plain": [
       "array([0.3673852 , 0.32675925, 0.34466556, 0.36738608, 0.21677972,\n",
       "       0.17203877, 0.37841594, 0.15247592, 0.32635946, 0.34277981,\n",
       "       0.32765926, 0.3682282 , 0.32697375, 0.32762464, 0.32760804,\n",
       "       0.3274215 , 0.28248171, 0.32360754, 0.21365489, 0.36436908,\n",
       "       0.34208999, 0.36001352, 0.35987137, 0.32467061, 0.37175494,\n",
       "       0.32834151, 0.32683739, 0.32580448, 0.34943548, 0.40148306,\n",
       "       0.32743181, 0.34146935, 0.32502214, 0.36854678, 0.32667185,\n",
       "       0.37987494, 0.32861006, 0.23988007, 0.36452733, 0.32586619,\n",
       "       0.32618913, 0.36666974, 0.32614572, 0.37065091, 0.39322214,\n",
       "       0.32944811, 0.39706163, 0.32550219, 0.37829666])"
      ]
     },
     "execution_count": 113,
     "metadata": {},
     "output_type": "execute_result"
    }
   ],
   "source": [
    "pred_val"
   ]
  },
  {
   "cell_type": "code",
   "execution_count": 114,
   "metadata": {},
   "outputs": [],
   "source": [
    "test = pd.read_csv(\"datasets/rus_stocks_funds_test.csv\")"
   ]
  },
  {
   "cell_type": "code",
   "execution_count": 115,
   "metadata": {},
   "outputs": [],
   "source": [
    "test[y_column] = 0.0"
   ]
  },
  {
   "cell_type": "code",
   "execution_count": 116,
   "metadata": {},
   "outputs": [
    {
     "data": {
      "text/html": [
       "<div>\n",
       "<style scoped>\n",
       "    .dataframe tbody tr th:only-of-type {\n",
       "        vertical-align: middle;\n",
       "    }\n",
       "\n",
       "    .dataframe tbody tr th {\n",
       "        vertical-align: top;\n",
       "    }\n",
       "\n",
       "    .dataframe thead th {\n",
       "        text-align: right;\n",
       "    }\n",
       "</style>\n",
       "<table border=\"1\" class=\"dataframe\">\n",
       "  <thead>\n",
       "    <tr style=\"text-align: right;\">\n",
       "      <th></th>\n",
       "      <th>Total issued ordinary shares</th>\n",
       "      <th>Number of shares available for sale</th>\n",
       "      <th>Number of employees</th>\n",
       "      <th>Number of shareholders</th>\n",
       "      <th>Price/Profit</th>\n",
       "      <th>Debt/Assets</th>\n",
       "    </tr>\n",
       "  </thead>\n",
       "  <tbody>\n",
       "    <tr>\n",
       "      <th>0</th>\n",
       "      <td>3.644700e+11</td>\n",
       "      <td>1.017600e+11</td>\n",
       "      <td>5840.0000</td>\n",
       "      <td>306350.000000</td>\n",
       "      <td>7.860000</td>\n",
       "      <td>0.0</td>\n",
       "    </tr>\n",
       "    <tr>\n",
       "      <th>1</th>\n",
       "      <td>6.968900e+08</td>\n",
       "      <td>4.339700e+08</td>\n",
       "      <td>110809.6875</td>\n",
       "      <td>39210.000000</td>\n",
       "      <td>5.670000</td>\n",
       "      <td>0.0</td>\n",
       "    </tr>\n",
       "    <tr>\n",
       "      <th>2</th>\n",
       "      <td>1.580000e+07</td>\n",
       "      <td>3.880000e+06</td>\n",
       "      <td>110809.6875</td>\n",
       "      <td>29.000000</td>\n",
       "      <td>7.060000</td>\n",
       "      <td>0.0</td>\n",
       "    </tr>\n",
       "    <tr>\n",
       "      <th>3</th>\n",
       "      <td>1.295000e+08</td>\n",
       "      <td>3.573000e+07</td>\n",
       "      <td>110809.6875</td>\n",
       "      <td>25.000000</td>\n",
       "      <td>14.940000</td>\n",
       "      <td>0.0</td>\n",
       "    </tr>\n",
       "    <tr>\n",
       "      <th>4</th>\n",
       "      <td>2.400000e+09</td>\n",
       "      <td>1.309960e+11</td>\n",
       "      <td>110809.6875</td>\n",
       "      <td>61044.948718</td>\n",
       "      <td>15.525191</td>\n",
       "      <td>0.0</td>\n",
       "    </tr>\n",
       "    <tr>\n",
       "      <th>...</th>\n",
       "      <td>...</td>\n",
       "      <td>...</td>\n",
       "      <td>...</td>\n",
       "      <td>...</td>\n",
       "      <td>...</td>\n",
       "      <td>...</td>\n",
       "    </tr>\n",
       "    <tr>\n",
       "      <th>77</th>\n",
       "      <td>1.528600e+08</td>\n",
       "      <td>1.309960e+11</td>\n",
       "      <td>110809.6875</td>\n",
       "      <td>61044.948718</td>\n",
       "      <td>6.270000</td>\n",
       "      <td>0.0</td>\n",
       "    </tr>\n",
       "    <tr>\n",
       "      <th>78</th>\n",
       "      <td>1.295000e+08</td>\n",
       "      <td>2.634000e+07</td>\n",
       "      <td>110809.6875</td>\n",
       "      <td>25.000000</td>\n",
       "      <td>15.525191</td>\n",
       "      <td>0.0</td>\n",
       "    </tr>\n",
       "    <tr>\n",
       "      <th>79</th>\n",
       "      <td>2.246000e+10</td>\n",
       "      <td>0.000000e+00</td>\n",
       "      <td>281550.0000</td>\n",
       "      <td>61044.948718</td>\n",
       "      <td>6.340000</td>\n",
       "      <td>0.0</td>\n",
       "    </tr>\n",
       "    <tr>\n",
       "      <th>80</th>\n",
       "      <td>1.295000e+08</td>\n",
       "      <td>3.371000e+07</td>\n",
       "      <td>110809.6875</td>\n",
       "      <td>25.000000</td>\n",
       "      <td>6.320000</td>\n",
       "      <td>0.0</td>\n",
       "    </tr>\n",
       "    <tr>\n",
       "      <th>81</th>\n",
       "      <td>2.250000e+09</td>\n",
       "      <td>1.309960e+11</td>\n",
       "      <td>110809.6875</td>\n",
       "      <td>61044.948718</td>\n",
       "      <td>9.530000</td>\n",
       "      <td>0.0</td>\n",
       "    </tr>\n",
       "  </tbody>\n",
       "</table>\n",
       "<p>82 rows × 6 columns</p>\n",
       "</div>"
      ],
      "text/plain": [
       "    Total issued ordinary shares  Number of shares available for sale  \\\n",
       "0                   3.644700e+11                         1.017600e+11   \n",
       "1                   6.968900e+08                         4.339700e+08   \n",
       "2                   1.580000e+07                         3.880000e+06   \n",
       "3                   1.295000e+08                         3.573000e+07   \n",
       "4                   2.400000e+09                         1.309960e+11   \n",
       "..                           ...                                  ...   \n",
       "77                  1.528600e+08                         1.309960e+11   \n",
       "78                  1.295000e+08                         2.634000e+07   \n",
       "79                  2.246000e+10                         0.000000e+00   \n",
       "80                  1.295000e+08                         3.371000e+07   \n",
       "81                  2.250000e+09                         1.309960e+11   \n",
       "\n",
       "    Number of employees  Number of shareholders  Price/Profit  Debt/Assets  \n",
       "0             5840.0000           306350.000000      7.860000          0.0  \n",
       "1           110809.6875            39210.000000      5.670000          0.0  \n",
       "2           110809.6875               29.000000      7.060000          0.0  \n",
       "3           110809.6875               25.000000     14.940000          0.0  \n",
       "4           110809.6875            61044.948718     15.525191          0.0  \n",
       "..                  ...                     ...           ...          ...  \n",
       "77          110809.6875            61044.948718      6.270000          0.0  \n",
       "78          110809.6875               25.000000     15.525191          0.0  \n",
       "79          281550.0000            61044.948718      6.340000          0.0  \n",
       "80          110809.6875               25.000000      6.320000          0.0  \n",
       "81          110809.6875            61044.948718      9.530000          0.0  \n",
       "\n",
       "[82 rows x 6 columns]"
      ]
     },
     "execution_count": 116,
     "metadata": {},
     "output_type": "execute_result"
    }
   ],
   "source": [
    "test"
   ]
  },
  {
   "cell_type": "code",
   "execution_count": 93,
   "metadata": {},
   "outputs": [],
   "source": [
    "sc_test = pd.DataFrame(ct.transform(test))\n",
    "sc_test.columns = column_names"
   ]
  },
  {
   "cell_type": "code",
   "execution_count": 94,
   "metadata": {},
   "outputs": [],
   "source": [
    "x_test = sc_test[x_columns]"
   ]
  },
  {
   "cell_type": "code",
   "execution_count": 95,
   "metadata": {},
   "outputs": [],
   "source": [
    "test[y_column] = model.predict(x_test)"
   ]
  },
  {
   "cell_type": "code",
   "execution_count": 96,
   "metadata": {},
   "outputs": [
    {
     "data": {
      "text/html": [
       "<div>\n",
       "<style scoped>\n",
       "    .dataframe tbody tr th:only-of-type {\n",
       "        vertical-align: middle;\n",
       "    }\n",
       "\n",
       "    .dataframe tbody tr th {\n",
       "        vertical-align: top;\n",
       "    }\n",
       "\n",
       "    .dataframe thead th {\n",
       "        text-align: right;\n",
       "    }\n",
       "</style>\n",
       "<table border=\"1\" class=\"dataframe\">\n",
       "  <thead>\n",
       "    <tr style=\"text-align: right;\">\n",
       "      <th></th>\n",
       "      <th>Total issued ordinary shares</th>\n",
       "      <th>Number of shares available for sale</th>\n",
       "      <th>Number of employees</th>\n",
       "      <th>Number of shareholders</th>\n",
       "      <th>Price/Profit</th>\n",
       "      <th>Debt/Assets</th>\n",
       "    </tr>\n",
       "  </thead>\n",
       "  <tbody>\n",
       "    <tr>\n",
       "      <th>0</th>\n",
       "      <td>3.644700e+11</td>\n",
       "      <td>1.017600e+11</td>\n",
       "      <td>5840.0000</td>\n",
       "      <td>306350.000000</td>\n",
       "      <td>7.860000</td>\n",
       "      <td>0.215082</td>\n",
       "    </tr>\n",
       "    <tr>\n",
       "      <th>1</th>\n",
       "      <td>6.968900e+08</td>\n",
       "      <td>4.339700e+08</td>\n",
       "      <td>110809.6875</td>\n",
       "      <td>39210.000000</td>\n",
       "      <td>5.670000</td>\n",
       "      <td>0.347217</td>\n",
       "    </tr>\n",
       "    <tr>\n",
       "      <th>2</th>\n",
       "      <td>1.580000e+07</td>\n",
       "      <td>3.880000e+06</td>\n",
       "      <td>110809.6875</td>\n",
       "      <td>29.000000</td>\n",
       "      <td>7.060000</td>\n",
       "      <td>0.373613</td>\n",
       "    </tr>\n",
       "    <tr>\n",
       "      <th>3</th>\n",
       "      <td>1.295000e+08</td>\n",
       "      <td>3.573000e+07</td>\n",
       "      <td>110809.6875</td>\n",
       "      <td>25.000000</td>\n",
       "      <td>14.940000</td>\n",
       "      <td>0.370804</td>\n",
       "    </tr>\n",
       "    <tr>\n",
       "      <th>4</th>\n",
       "      <td>2.400000e+09</td>\n",
       "      <td>1.309960e+11</td>\n",
       "      <td>110809.6875</td>\n",
       "      <td>61044.948718</td>\n",
       "      <td>15.525191</td>\n",
       "      <td>0.330024</td>\n",
       "    </tr>\n",
       "  </tbody>\n",
       "</table>\n",
       "</div>"
      ],
      "text/plain": [
       "   Total issued ordinary shares  Number of shares available for sale  \\\n",
       "0                  3.644700e+11                         1.017600e+11   \n",
       "1                  6.968900e+08                         4.339700e+08   \n",
       "2                  1.580000e+07                         3.880000e+06   \n",
       "3                  1.295000e+08                         3.573000e+07   \n",
       "4                  2.400000e+09                         1.309960e+11   \n",
       "\n",
       "   Number of employees  Number of shareholders  Price/Profit  Debt/Assets  \n",
       "0            5840.0000           306350.000000      7.860000     0.215082  \n",
       "1          110809.6875            39210.000000      5.670000     0.347217  \n",
       "2          110809.6875               29.000000      7.060000     0.373613  \n",
       "3          110809.6875               25.000000     14.940000     0.370804  \n",
       "4          110809.6875            61044.948718     15.525191     0.330024  "
      ]
     },
     "execution_count": 96,
     "metadata": {},
     "output_type": "execute_result"
    }
   ],
   "source": [
    "test.head()"
   ]
  },
  {
   "cell_type": "code",
   "execution_count": 97,
   "metadata": {},
   "outputs": [],
   "source": [
    "test.to_csv('task5_results/rus_stocks_funds_result.csv', index=False)"
   ]
  },
  {
   "cell_type": "code",
   "execution_count": null,
   "metadata": {},
   "outputs": [],
   "source": []
  },
  {
   "cell_type": "code",
   "execution_count": null,
   "metadata": {},
   "outputs": [],
   "source": []
  }
 ],
 "metadata": {
  "kernelspec": {
   "display_name": "Python 3 (ipykernel)",
   "language": "python",
   "name": "python3"
  },
  "language_info": {
   "codemirror_mode": {
    "name": "ipython",
    "version": 3
   },
   "file_extension": ".py",
   "mimetype": "text/x-python",
   "name": "python",
   "nbconvert_exporter": "python",
   "pygments_lexer": "ipython3",
   "version": "3.7.12"
  }
 },
 "nbformat": 4,
 "nbformat_minor": 4
}
