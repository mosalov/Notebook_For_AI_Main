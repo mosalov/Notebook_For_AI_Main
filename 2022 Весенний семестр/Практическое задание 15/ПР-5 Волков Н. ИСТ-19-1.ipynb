{
 "cells": [
  {
   "cell_type": "code",
   "execution_count": 1,
   "metadata": {},
   "outputs": [],
   "source": [
    "# Зависимости\n",
    "import pandas as pd\n",
    "import numpy as np\n",
    "import matplotlib.pyplot as plt\n",
    "import random\n",
    "import os\n",
    "\n",
    "from sklearn.model_selection import train_test_split\n",
    "from sklearn.preprocessing import MinMaxScaler\n",
    "from sklearn.neighbors import KNeighborsRegressor\n",
    "from sklearn.naive_bayes import MultinomialNB\n",
    "from sklearn.svm import SVR, SVC\n",
    "from sklearn.tree import DecisionTreeRegressor\n",
    "from sklearn.compose import ColumnTransformer, TransformedTargetRegressor \n",
    "\n",
    "from sklearn.linear_model import LinearRegression,Lasso, Ridge, ElasticNet, LogisticRegression\n",
    "from sklearn.metrics import mean_squared_error"
   ]
  },
  {
   "cell_type": "code",
   "execution_count": 2,
   "metadata": {},
   "outputs": [],
   "source": [
    "# Инициализируем все известные генераторы случаынйх чисел / Setting all known random seeds\n",
    "my_code = \"Волков Н.\"\n",
    "seed_limit = 2 ** 32\n",
    "my_seed = int.from_bytes(my_code.encode(), \"little\") % seed_limit\n",
    "\n",
    "os.environ['PYTHONHASHSEED']=str(my_seed)\n",
    "\n",
    "random.seed(my_seed)\n",
    "\n",
    "np.random.seed(my_seed)"
   ]
  },
  {
   "cell_type": "code",
   "execution_count": 3,
   "metadata": {},
   "outputs": [],
   "source": [
    "# Читаем данные из файла\n",
    "train_data = pd.read_csv(\"datasets/rus_stocks_funds_train.csv\")"
   ]
  },
  {
   "cell_type": "code",
   "execution_count": 4,
   "metadata": {
    "scrolled": true
   },
   "outputs": [
    {
     "data": {
      "text/html": [
       "<div>\n",
       "<style scoped>\n",
       "    .dataframe tbody tr th:only-of-type {\n",
       "        vertical-align: middle;\n",
       "    }\n",
       "\n",
       "    .dataframe tbody tr th {\n",
       "        vertical-align: top;\n",
       "    }\n",
       "\n",
       "    .dataframe thead th {\n",
       "        text-align: right;\n",
       "    }\n",
       "</style>\n",
       "<table border=\"1\" class=\"dataframe\">\n",
       "  <thead>\n",
       "    <tr style=\"text-align: right;\">\n",
       "      <th></th>\n",
       "      <th>Total issued ordinary shares</th>\n",
       "      <th>Number of shares available for sale</th>\n",
       "      <th>Number of employees</th>\n",
       "      <th>Number of shareholders</th>\n",
       "      <th>Price/Profit</th>\n",
       "      <th>Debt/Assets</th>\n",
       "    </tr>\n",
       "  </thead>\n",
       "  <tbody>\n",
       "    <tr>\n",
       "      <th>0</th>\n",
       "      <td>7.210000e+09</td>\n",
       "      <td>2.870000e+09</td>\n",
       "      <td>110809.6875</td>\n",
       "      <td>3190.000000</td>\n",
       "      <td>9.870000</td>\n",
       "      <td>0.27</td>\n",
       "    </tr>\n",
       "    <tr>\n",
       "      <th>1</th>\n",
       "      <td>1.060000e+10</td>\n",
       "      <td>1.130000e+09</td>\n",
       "      <td>318000.0000</td>\n",
       "      <td>28230.000000</td>\n",
       "      <td>13.910000</td>\n",
       "      <td>0.30</td>\n",
       "    </tr>\n",
       "    <tr>\n",
       "      <th>2</th>\n",
       "      <td>2.249000e+10</td>\n",
       "      <td>1.027000e+10</td>\n",
       "      <td>329570.0000</td>\n",
       "      <td>61044.948718</td>\n",
       "      <td>4.080000</td>\n",
       "      <td>0.25</td>\n",
       "    </tr>\n",
       "    <tr>\n",
       "      <th>3</th>\n",
       "      <td>4.995200e+08</td>\n",
       "      <td>1.964200e+08</td>\n",
       "      <td>59380.0000</td>\n",
       "      <td>81.000000</td>\n",
       "      <td>2.910000</td>\n",
       "      <td>1.31</td>\n",
       "    </tr>\n",
       "    <tr>\n",
       "      <th>4</th>\n",
       "      <td>9.520000e+09</td>\n",
       "      <td>1.309960e+11</td>\n",
       "      <td>110809.6875</td>\n",
       "      <td>61044.948718</td>\n",
       "      <td>15.525191</td>\n",
       "      <td>0.35</td>\n",
       "    </tr>\n",
       "  </tbody>\n",
       "</table>\n",
       "</div>"
      ],
      "text/plain": [
       "   Total issued ordinary shares  Number of shares available for sale  \\\n",
       "0                  7.210000e+09                         2.870000e+09   \n",
       "1                  1.060000e+10                         1.130000e+09   \n",
       "2                  2.249000e+10                         1.027000e+10   \n",
       "3                  4.995200e+08                         1.964200e+08   \n",
       "4                  9.520000e+09                         1.309960e+11   \n",
       "\n",
       "   Number of employees  Number of shareholders  Price/Profit  Debt/Assets  \n",
       "0          110809.6875             3190.000000      9.870000         0.27  \n",
       "1          318000.0000            28230.000000     13.910000         0.30  \n",
       "2          329570.0000            61044.948718      4.080000         0.25  \n",
       "3           59380.0000               81.000000      2.910000         1.31  \n",
       "4          110809.6875            61044.948718     15.525191         0.35  "
      ]
     },
     "execution_count": 4,
     "metadata": {},
     "output_type": "execute_result"
    }
   ],
   "source": [
    "train_data.head()"
   ]
  },
  {
   "cell_type": "code",
   "execution_count": 5,
   "metadata": {},
   "outputs": [
    {
     "name": "stdout",
     "output_type": "stream",
     "text": [
      "66\n"
     ]
    }
   ],
   "source": [
    "# Определим размер валидационной выборки\n",
    "val_size = round(0.2*len(train_data))\n",
    "print(val_size)"
   ]
  },
  {
   "cell_type": "code",
   "execution_count": 6,
   "metadata": {},
   "outputs": [
    {
     "name": "stdout",
     "output_type": "stream",
     "text": [
      "263 66\n"
     ]
    }
   ],
   "source": [
    "# Создадим обучающую и валидационную выборки\n",
    "random_state = my_seed\n",
    "train, val = train_test_split(train_data, test_size=val_size, random_state=random_state)\n",
    "print(len(train), len(val))"
   ]
  },
  {
   "cell_type": "code",
   "execution_count": 7,
   "metadata": {},
   "outputs": [
    {
     "data": {
      "text/plain": [
       "ColumnTransformer(remainder='passthrough',\n",
       "                  transformers=[('numerical', MinMaxScaler(),\n",
       "                                 ['Total issued ordinary shares',\n",
       "                                  'Number of shares available for sale',\n",
       "                                  'Number of employees',\n",
       "                                  'Number of shareholders', 'Price/Profit'])])"
      ]
     },
     "execution_count": 7,
     "metadata": {},
     "output_type": "execute_result"
    }
   ],
   "source": [
    "# Значения в числовых столбцах преобразуем к отрезку [0,1].\n",
    "# Для настройки скалировщика используем только обучающую выборку.\n",
    "y_column = 'Debt/Assets'\n",
    "x_columns = [e for e in train_data.columns if e != y_column]\n",
    "\n",
    "ct = ColumnTransformer(transformers=[('numerical', MinMaxScaler(), x_columns)], remainder='passthrough')\n",
    "\n",
    "ct.fit(train)"
   ]
  },
  {
   "cell_type": "code",
   "execution_count": 8,
   "metadata": {},
   "outputs": [],
   "source": [
    "# Преобразуем значения, тип данных приводим к DataFrame\n",
    "sc_train = pd.DataFrame(ct.transform(train))\n",
    "sc_val = pd.DataFrame(ct.transform(val))"
   ]
  },
  {
   "cell_type": "code",
   "execution_count": 9,
   "metadata": {},
   "outputs": [],
   "source": [
    "# Устанавливаем названия столбцов\n",
    "column_names = list(x_columns) + [y_column]\n",
    "sc_train.columns = column_names\n",
    "sc_val.columns = column_names"
   ]
  },
  {
   "cell_type": "code",
   "execution_count": 10,
   "metadata": {},
   "outputs": [
    {
     "data": {
      "text/html": [
       "<div>\n",
       "<style scoped>\n",
       "    .dataframe tbody tr th:only-of-type {\n",
       "        vertical-align: middle;\n",
       "    }\n",
       "\n",
       "    .dataframe tbody tr th {\n",
       "        vertical-align: top;\n",
       "    }\n",
       "\n",
       "    .dataframe thead th {\n",
       "        text-align: right;\n",
       "    }\n",
       "</style>\n",
       "<table border=\"1\" class=\"dataframe\">\n",
       "  <thead>\n",
       "    <tr style=\"text-align: right;\">\n",
       "      <th></th>\n",
       "      <th>Total issued ordinary shares</th>\n",
       "      <th>Number of shares available for sale</th>\n",
       "      <th>Number of employees</th>\n",
       "      <th>Number of shareholders</th>\n",
       "      <th>Price/Profit</th>\n",
       "      <th>Debt/Assets</th>\n",
       "    </tr>\n",
       "  </thead>\n",
       "  <tbody>\n",
       "    <tr>\n",
       "      <th>0</th>\n",
       "      <td>0.000364</td>\n",
       "      <td>0.023841</td>\n",
       "      <td>0.231278</td>\n",
       "      <td>0.020338</td>\n",
       "      <td>0.016686</td>\n",
       "      <td>0.21</td>\n",
       "    </tr>\n",
       "    <tr>\n",
       "      <th>1</th>\n",
       "      <td>0.004865</td>\n",
       "      <td>0.049084</td>\n",
       "      <td>0.231278</td>\n",
       "      <td>0.149645</td>\n",
       "      <td>0.045534</td>\n",
       "      <td>0.01</td>\n",
       "    </tr>\n",
       "    <tr>\n",
       "      <th>2</th>\n",
       "      <td>0.000012</td>\n",
       "      <td>0.023818</td>\n",
       "      <td>0.231278</td>\n",
       "      <td>0.094595</td>\n",
       "      <td>0.042900</td>\n",
       "      <td>0.55</td>\n",
       "    </tr>\n",
       "    <tr>\n",
       "      <th>3</th>\n",
       "      <td>0.000056</td>\n",
       "      <td>0.049084</td>\n",
       "      <td>0.231278</td>\n",
       "      <td>0.000017</td>\n",
       "      <td>0.063121</td>\n",
       "      <td>0.37</td>\n",
       "    </tr>\n",
       "    <tr>\n",
       "      <th>4</th>\n",
       "      <td>0.097309</td>\n",
       "      <td>0.069533</td>\n",
       "      <td>0.231278</td>\n",
       "      <td>1.000000</td>\n",
       "      <td>0.063121</td>\n",
       "      <td>0.28</td>\n",
       "    </tr>\n",
       "    <tr>\n",
       "      <th>...</th>\n",
       "      <td>...</td>\n",
       "      <td>...</td>\n",
       "      <td>...</td>\n",
       "      <td>...</td>\n",
       "      <td>...</td>\n",
       "      <td>...</td>\n",
       "    </tr>\n",
       "    <tr>\n",
       "      <th>258</th>\n",
       "      <td>0.032600</td>\n",
       "      <td>0.039494</td>\n",
       "      <td>0.143901</td>\n",
       "      <td>0.751021</td>\n",
       "      <td>0.196452</td>\n",
       "      <td>0.22</td>\n",
       "    </tr>\n",
       "    <tr>\n",
       "      <th>259</th>\n",
       "      <td>0.000861</td>\n",
       "      <td>0.049084</td>\n",
       "      <td>0.231278</td>\n",
       "      <td>0.149645</td>\n",
       "      <td>0.067884</td>\n",
       "      <td>0.14</td>\n",
       "    </tr>\n",
       "    <tr>\n",
       "      <th>260</th>\n",
       "      <td>0.000734</td>\n",
       "      <td>0.049084</td>\n",
       "      <td>0.231278</td>\n",
       "      <td>0.149645</td>\n",
       "      <td>0.063121</td>\n",
       "      <td>0.35</td>\n",
       "    </tr>\n",
       "    <tr>\n",
       "      <th>261</th>\n",
       "      <td>0.033603</td>\n",
       "      <td>0.049084</td>\n",
       "      <td>0.231278</td>\n",
       "      <td>0.149645</td>\n",
       "      <td>0.033371</td>\n",
       "      <td>0.20</td>\n",
       "    </tr>\n",
       "    <tr>\n",
       "      <th>262</th>\n",
       "      <td>0.015479</td>\n",
       "      <td>0.027575</td>\n",
       "      <td>0.231278</td>\n",
       "      <td>0.692601</td>\n",
       "      <td>0.010846</td>\n",
       "      <td>0.21</td>\n",
       "    </tr>\n",
       "  </tbody>\n",
       "</table>\n",
       "<p>263 rows × 6 columns</p>\n",
       "</div>"
      ],
      "text/plain": [
       "     Total issued ordinary shares  Number of shares available for sale  \\\n",
       "0                        0.000364                             0.023841   \n",
       "1                        0.004865                             0.049084   \n",
       "2                        0.000012                             0.023818   \n",
       "3                        0.000056                             0.049084   \n",
       "4                        0.097309                             0.069533   \n",
       "..                            ...                                  ...   \n",
       "258                      0.032600                             0.039494   \n",
       "259                      0.000861                             0.049084   \n",
       "260                      0.000734                             0.049084   \n",
       "261                      0.033603                             0.049084   \n",
       "262                      0.015479                             0.027575   \n",
       "\n",
       "     Number of employees  Number of shareholders  Price/Profit  Debt/Assets  \n",
       "0               0.231278                0.020338      0.016686         0.21  \n",
       "1               0.231278                0.149645      0.045534         0.01  \n",
       "2               0.231278                0.094595      0.042900         0.55  \n",
       "3               0.231278                0.000017      0.063121         0.37  \n",
       "4               0.231278                1.000000      0.063121         0.28  \n",
       "..                   ...                     ...           ...          ...  \n",
       "258             0.143901                0.751021      0.196452         0.22  \n",
       "259             0.231278                0.149645      0.067884         0.14  \n",
       "260             0.231278                0.149645      0.063121         0.35  \n",
       "261             0.231278                0.149645      0.033371         0.20  \n",
       "262             0.231278                0.692601      0.010846         0.21  \n",
       "\n",
       "[263 rows x 6 columns]"
      ]
     },
     "execution_count": 10,
     "metadata": {},
     "output_type": "execute_result"
    }
   ],
   "source": [
    "sc_train"
   ]
  },
  {
   "cell_type": "code",
   "execution_count": 11,
   "metadata": {},
   "outputs": [],
   "source": [
    "# Отберем необходимые параметры\n",
    "x_train = sc_train[x_columns]\n",
    "x_val = sc_val[x_columns]\n",
    "\n",
    "y_train = (sc_train[y_column].values).flatten()\n",
    "y_val = (sc_val[y_column].values).flatten()"
   ]
  },
  {
   "cell_type": "code",
   "execution_count": 12,
   "metadata": {},
   "outputs": [],
   "source": [
    "# Создадим простую модель логистической регрессии\n",
    "r_models = []\n",
    "\n",
    "r_models.append(ElasticNet(alpha=0.5))\n",
    "r_models.append(ElasticNet(alpha=0.5, l1_ratio=0.75))\n",
    "r_models.append(LinearRegression())\n",
    "r_models.append(Lasso())\n",
    "\n",
    "r_models.append(DecisionTreeRegressor())\n",
    "\n",
    "r_models.append(SVR())\n",
    "\n",
    "r_models.append(Ridge())\n",
    "\n",
    "r_models.append(KNeighborsRegressor(n_neighbors=5))\n",
    "r_models.append(KNeighborsRegressor(n_neighbors=10))\n",
    "r_models.append(KNeighborsRegressor(n_neighbors=15))\n",
    "\n",
    "r_models.append(SVR(kernel='linear'))\n",
    "r_models.append(SVR(kernel='poly'))\n",
    "r_models.append(SVR(kernel='rbf'))\n",
    "r_models.append(SVR(kernel='sigmoid'))\n",
    "\n",
    "r_models.append(DecisionTreeRegressor(criterion='squared_error'))\n",
    "r_models.append(DecisionTreeRegressor(criterion='friedman_mse'))\n",
    "r_models.append(DecisionTreeRegressor(criterion='absolute_error'))"
   ]
  },
  {
   "cell_type": "code",
   "execution_count": 13,
   "metadata": {},
   "outputs": [
    {
     "data": {
      "text/plain": [
       "[ElasticNet(alpha=0.5),\n",
       " ElasticNet(alpha=0.5, l1_ratio=0.75),\n",
       " LinearRegression(),\n",
       " Lasso(),\n",
       " DecisionTreeRegressor(),\n",
       " SVR(),\n",
       " Ridge(),\n",
       " KNeighborsRegressor(),\n",
       " KNeighborsRegressor(n_neighbors=10),\n",
       " KNeighborsRegressor(n_neighbors=15),\n",
       " SVR(kernel='linear'),\n",
       " SVR(kernel='poly'),\n",
       " SVR(),\n",
       " SVR(kernel='sigmoid'),\n",
       " DecisionTreeRegressor(),\n",
       " DecisionTreeRegressor(criterion='friedman_mse'),\n",
       " DecisionTreeRegressor(criterion='absolute_error')]"
      ]
     },
     "execution_count": 13,
     "metadata": {},
     "output_type": "execute_result"
    }
   ],
   "source": [
    "r_models"
   ]
  },
  {
   "cell_type": "code",
   "execution_count": 14,
   "metadata": {
    "scrolled": true
   },
   "outputs": [
    {
     "name": "stdout",
     "output_type": "stream",
     "text": [
      "ElasticNet(alpha=0.5)\n",
      "ElasticNet(alpha=0.5, l1_ratio=0.75)\n",
      "LinearRegression()\n",
      "Lasso()\n",
      "DecisionTreeRegressor()\n",
      "SVR()\n",
      "Ridge()\n",
      "KNeighborsRegressor()\n",
      "KNeighborsRegressor(n_neighbors=10)\n",
      "KNeighborsRegressor(n_neighbors=15)\n",
      "SVR(kernel='linear')\n",
      "SVR(kernel='poly')\n",
      "SVR()\n",
      "SVR(kernel='sigmoid')\n",
      "DecisionTreeRegressor()\n",
      "DecisionTreeRegressor(criterion='friedman_mse')\n",
      "DecisionTreeRegressor(criterion='absolute_error')\n"
     ]
    }
   ],
   "source": [
    "# Обучим модель\n",
    "for model in r_models:\n",
    "    print(model)\n",
    "    model.fit(x_train, y_train)"
   ]
  },
  {
   "cell_type": "code",
   "execution_count": 15,
   "metadata": {},
   "outputs": [
    {
     "name": "stdout",
     "output_type": "stream",
     "text": [
      "ElasticNet(alpha=0.5) \t 0.048327045492896285\n",
      "ElasticNet(alpha=0.5, l1_ratio=0.75) \t 0.048327045492896285\n",
      "LinearRegression() \t 0.05151465832984994\n",
      "Lasso() \t 0.048327045492896285\n",
      "DecisionTreeRegressor() \t 0.013281591073484951\n",
      "SVR() \t 0.046996217288608706\n",
      "Ridge() \t 0.05015988729637438\n",
      "KNeighborsRegressor() \t 0.049855166991560014\n",
      "KNeighborsRegressor(n_neighbors=10) \t 0.05094792533602958\n",
      "KNeighborsRegressor(n_neighbors=15) \t 0.0524791587990908\n",
      "SVR(kernel='linear') \t 0.04802011675772887\n",
      "SVR(kernel='poly') \t 2.1817568995543324\n",
      "SVR() \t 0.046996217288608706\n",
      "SVR(kernel='sigmoid') \t 54.51421120585733\n",
      "DecisionTreeRegressor() \t 0.017011399266394975\n",
      "DecisionTreeRegressor(criterion='friedman_mse') \t 0.017932611387607097\n",
      "DecisionTreeRegressor(criterion='absolute_error') \t 0.01408412653912225\n"
     ]
    }
   ],
   "source": [
    "# Проверим работу обученной модели на валидационной выборке\n",
    "mses = []\n",
    "for model in r_models:\n",
    "    val_pred = model.predict(x_val)\n",
    "    mse = mean_squared_error(y_val, val_pred)\n",
    "    mses.append(mse)\n",
    "    print(model, '\\t', mse)"
   ]
  },
  {
   "cell_type": "code",
   "execution_count": 16,
   "metadata": {},
   "outputs": [
    {
     "data": {
      "text/plain": [
       "DecisionTreeRegressor()"
      ]
     },
     "execution_count": 16,
     "metadata": {},
     "output_type": "execute_result"
    }
   ],
   "source": [
    "i_min = mses.index(min(mses))\n",
    "best_r_model = r_models[i_min]\n",
    "best_r_model"
   ]
  },
  {
   "cell_type": "code",
   "execution_count": 17,
   "metadata": {},
   "outputs": [
    {
     "data": {
      "text/plain": [
       "array([0.04      , 0.        , 0.04      , 0.53      , 0.06      ,\n",
       "       0.62      , 0.13      , 0.2       , 0.41      , 0.36      ,\n",
       "       0.5       , 0.62      , 0.21      , 0.61      , 0.37      ,\n",
       "       0.61      , 0.82      , 0.12      , 0.21      , 0.62      ,\n",
       "       0.21      , 0.22      , 0.22      , 0.07      , 0.19      ,\n",
       "       0.09      , 0.22      , 0.15      , 0.65      , 0.19      ,\n",
       "       0.19      , 0.29      , 0.65      , 0.01      , 0.41      ,\n",
       "       0.05      , 0.27      , 0.07      , 0.28      , 0.21      ,\n",
       "       0.1       , 0.16      , 0.26      , 0.62      , 0.22      ,\n",
       "       0.06      , 0.53      , 0.51      , 0.1       , 0.18      ,\n",
       "       0.84      , 0.61      , 0.1       , 0.32      , 0.53      ,\n",
       "       0.2       , 0.48612469, 0.11      , 0.07      , 0.        ,\n",
       "       0.12      , 0.61      , 0.01      , 0.09      , 0.27      ,\n",
       "       0.29      ])"
      ]
     },
     "execution_count": 17,
     "metadata": {},
     "output_type": "execute_result"
    }
   ],
   "source": [
    "val_pred"
   ]
  },
  {
   "cell_type": "code",
   "execution_count": 18,
   "metadata": {},
   "outputs": [],
   "source": [
    "test = pd.read_csv(\"datasets/rus_stocks_funds_test.csv\")"
   ]
  },
  {
   "cell_type": "code",
   "execution_count": 19,
   "metadata": {},
   "outputs": [],
   "source": [
    "test[y_column] = 0.0"
   ]
  },
  {
   "cell_type": "code",
   "execution_count": 20,
   "metadata": {},
   "outputs": [
    {
     "data": {
      "text/html": [
       "<div>\n",
       "<style scoped>\n",
       "    .dataframe tbody tr th:only-of-type {\n",
       "        vertical-align: middle;\n",
       "    }\n",
       "\n",
       "    .dataframe tbody tr th {\n",
       "        vertical-align: top;\n",
       "    }\n",
       "\n",
       "    .dataframe thead th {\n",
       "        text-align: right;\n",
       "    }\n",
       "</style>\n",
       "<table border=\"1\" class=\"dataframe\">\n",
       "  <thead>\n",
       "    <tr style=\"text-align: right;\">\n",
       "      <th></th>\n",
       "      <th>Total issued ordinary shares</th>\n",
       "      <th>Number of shares available for sale</th>\n",
       "      <th>Number of employees</th>\n",
       "      <th>Number of shareholders</th>\n",
       "      <th>Price/Profit</th>\n",
       "      <th>Debt/Assets</th>\n",
       "    </tr>\n",
       "  </thead>\n",
       "  <tbody>\n",
       "    <tr>\n",
       "      <th>0</th>\n",
       "      <td>3.644700e+11</td>\n",
       "      <td>1.017600e+11</td>\n",
       "      <td>5840.0000</td>\n",
       "      <td>306350.000000</td>\n",
       "      <td>7.860000</td>\n",
       "      <td>0.0</td>\n",
       "    </tr>\n",
       "    <tr>\n",
       "      <th>1</th>\n",
       "      <td>6.968900e+08</td>\n",
       "      <td>4.339700e+08</td>\n",
       "      <td>110809.6875</td>\n",
       "      <td>39210.000000</td>\n",
       "      <td>5.670000</td>\n",
       "      <td>0.0</td>\n",
       "    </tr>\n",
       "    <tr>\n",
       "      <th>2</th>\n",
       "      <td>1.580000e+07</td>\n",
       "      <td>3.880000e+06</td>\n",
       "      <td>110809.6875</td>\n",
       "      <td>29.000000</td>\n",
       "      <td>7.060000</td>\n",
       "      <td>0.0</td>\n",
       "    </tr>\n",
       "    <tr>\n",
       "      <th>3</th>\n",
       "      <td>1.295000e+08</td>\n",
       "      <td>3.573000e+07</td>\n",
       "      <td>110809.6875</td>\n",
       "      <td>25.000000</td>\n",
       "      <td>14.940000</td>\n",
       "      <td>0.0</td>\n",
       "    </tr>\n",
       "    <tr>\n",
       "      <th>4</th>\n",
       "      <td>2.400000e+09</td>\n",
       "      <td>1.309960e+11</td>\n",
       "      <td>110809.6875</td>\n",
       "      <td>61044.948718</td>\n",
       "      <td>15.525191</td>\n",
       "      <td>0.0</td>\n",
       "    </tr>\n",
       "    <tr>\n",
       "      <th>...</th>\n",
       "      <td>...</td>\n",
       "      <td>...</td>\n",
       "      <td>...</td>\n",
       "      <td>...</td>\n",
       "      <td>...</td>\n",
       "      <td>...</td>\n",
       "    </tr>\n",
       "    <tr>\n",
       "      <th>77</th>\n",
       "      <td>1.528600e+08</td>\n",
       "      <td>1.309960e+11</td>\n",
       "      <td>110809.6875</td>\n",
       "      <td>61044.948718</td>\n",
       "      <td>6.270000</td>\n",
       "      <td>0.0</td>\n",
       "    </tr>\n",
       "    <tr>\n",
       "      <th>78</th>\n",
       "      <td>1.295000e+08</td>\n",
       "      <td>2.634000e+07</td>\n",
       "      <td>110809.6875</td>\n",
       "      <td>25.000000</td>\n",
       "      <td>15.525191</td>\n",
       "      <td>0.0</td>\n",
       "    </tr>\n",
       "    <tr>\n",
       "      <th>79</th>\n",
       "      <td>2.246000e+10</td>\n",
       "      <td>0.000000e+00</td>\n",
       "      <td>281550.0000</td>\n",
       "      <td>61044.948718</td>\n",
       "      <td>6.340000</td>\n",
       "      <td>0.0</td>\n",
       "    </tr>\n",
       "    <tr>\n",
       "      <th>80</th>\n",
       "      <td>1.295000e+08</td>\n",
       "      <td>3.371000e+07</td>\n",
       "      <td>110809.6875</td>\n",
       "      <td>25.000000</td>\n",
       "      <td>6.320000</td>\n",
       "      <td>0.0</td>\n",
       "    </tr>\n",
       "    <tr>\n",
       "      <th>81</th>\n",
       "      <td>2.250000e+09</td>\n",
       "      <td>1.309960e+11</td>\n",
       "      <td>110809.6875</td>\n",
       "      <td>61044.948718</td>\n",
       "      <td>9.530000</td>\n",
       "      <td>0.0</td>\n",
       "    </tr>\n",
       "  </tbody>\n",
       "</table>\n",
       "<p>82 rows × 6 columns</p>\n",
       "</div>"
      ],
      "text/plain": [
       "    Total issued ordinary shares  Number of shares available for sale  \\\n",
       "0                   3.644700e+11                         1.017600e+11   \n",
       "1                   6.968900e+08                         4.339700e+08   \n",
       "2                   1.580000e+07                         3.880000e+06   \n",
       "3                   1.295000e+08                         3.573000e+07   \n",
       "4                   2.400000e+09                         1.309960e+11   \n",
       "..                           ...                                  ...   \n",
       "77                  1.528600e+08                         1.309960e+11   \n",
       "78                  1.295000e+08                         2.634000e+07   \n",
       "79                  2.246000e+10                         0.000000e+00   \n",
       "80                  1.295000e+08                         3.371000e+07   \n",
       "81                  2.250000e+09                         1.309960e+11   \n",
       "\n",
       "    Number of employees  Number of shareholders  Price/Profit  Debt/Assets  \n",
       "0             5840.0000           306350.000000      7.860000          0.0  \n",
       "1           110809.6875            39210.000000      5.670000          0.0  \n",
       "2           110809.6875               29.000000      7.060000          0.0  \n",
       "3           110809.6875               25.000000     14.940000          0.0  \n",
       "4           110809.6875            61044.948718     15.525191          0.0  \n",
       "..                  ...                     ...           ...          ...  \n",
       "77          110809.6875            61044.948718      6.270000          0.0  \n",
       "78          110809.6875               25.000000     15.525191          0.0  \n",
       "79          281550.0000            61044.948718      6.340000          0.0  \n",
       "80          110809.6875               25.000000      6.320000          0.0  \n",
       "81          110809.6875            61044.948718      9.530000          0.0  \n",
       "\n",
       "[82 rows x 6 columns]"
      ]
     },
     "execution_count": 20,
     "metadata": {},
     "output_type": "execute_result"
    }
   ],
   "source": [
    "test"
   ]
  },
  {
   "cell_type": "code",
   "execution_count": 21,
   "metadata": {},
   "outputs": [],
   "source": [
    "sc_test = pd.DataFrame(ct.transform(test))\n",
    "sc_test.columns = column_names"
   ]
  },
  {
   "cell_type": "code",
   "execution_count": 22,
   "metadata": {},
   "outputs": [],
   "source": [
    "x_test = sc_test[x_columns]"
   ]
  },
  {
   "cell_type": "code",
   "execution_count": 23,
   "metadata": {},
   "outputs": [],
   "source": [
    "test[y_column] = model.predict(x_test)"
   ]
  },
  {
   "cell_type": "code",
   "execution_count": 24,
   "metadata": {},
   "outputs": [
    {
     "data": {
      "text/html": [
       "<div>\n",
       "<style scoped>\n",
       "    .dataframe tbody tr th:only-of-type {\n",
       "        vertical-align: middle;\n",
       "    }\n",
       "\n",
       "    .dataframe tbody tr th {\n",
       "        vertical-align: top;\n",
       "    }\n",
       "\n",
       "    .dataframe thead th {\n",
       "        text-align: right;\n",
       "    }\n",
       "</style>\n",
       "<table border=\"1\" class=\"dataframe\">\n",
       "  <thead>\n",
       "    <tr style=\"text-align: right;\">\n",
       "      <th></th>\n",
       "      <th>Total issued ordinary shares</th>\n",
       "      <th>Number of shares available for sale</th>\n",
       "      <th>Number of employees</th>\n",
       "      <th>Number of shareholders</th>\n",
       "      <th>Price/Profit</th>\n",
       "      <th>Debt/Assets</th>\n",
       "    </tr>\n",
       "  </thead>\n",
       "  <tbody>\n",
       "    <tr>\n",
       "      <th>0</th>\n",
       "      <td>3.644700e+11</td>\n",
       "      <td>1.017600e+11</td>\n",
       "      <td>5840.0000</td>\n",
       "      <td>306350.000000</td>\n",
       "      <td>7.860000</td>\n",
       "      <td>0.20</td>\n",
       "    </tr>\n",
       "    <tr>\n",
       "      <th>1</th>\n",
       "      <td>6.968900e+08</td>\n",
       "      <td>4.339700e+08</td>\n",
       "      <td>110809.6875</td>\n",
       "      <td>39210.000000</td>\n",
       "      <td>5.670000</td>\n",
       "      <td>0.12</td>\n",
       "    </tr>\n",
       "    <tr>\n",
       "      <th>2</th>\n",
       "      <td>1.580000e+07</td>\n",
       "      <td>3.880000e+06</td>\n",
       "      <td>110809.6875</td>\n",
       "      <td>29.000000</td>\n",
       "      <td>7.060000</td>\n",
       "      <td>0.27</td>\n",
       "    </tr>\n",
       "    <tr>\n",
       "      <th>3</th>\n",
       "      <td>1.295000e+08</td>\n",
       "      <td>3.573000e+07</td>\n",
       "      <td>110809.6875</td>\n",
       "      <td>25.000000</td>\n",
       "      <td>14.940000</td>\n",
       "      <td>0.48</td>\n",
       "    </tr>\n",
       "    <tr>\n",
       "      <th>4</th>\n",
       "      <td>2.400000e+09</td>\n",
       "      <td>1.309960e+11</td>\n",
       "      <td>110809.6875</td>\n",
       "      <td>61044.948718</td>\n",
       "      <td>15.525191</td>\n",
       "      <td>0.65</td>\n",
       "    </tr>\n",
       "  </tbody>\n",
       "</table>\n",
       "</div>"
      ],
      "text/plain": [
       "   Total issued ordinary shares  Number of shares available for sale  \\\n",
       "0                  3.644700e+11                         1.017600e+11   \n",
       "1                  6.968900e+08                         4.339700e+08   \n",
       "2                  1.580000e+07                         3.880000e+06   \n",
       "3                  1.295000e+08                         3.573000e+07   \n",
       "4                  2.400000e+09                         1.309960e+11   \n",
       "\n",
       "   Number of employees  Number of shareholders  Price/Profit  Debt/Assets  \n",
       "0            5840.0000           306350.000000      7.860000         0.20  \n",
       "1          110809.6875            39210.000000      5.670000         0.12  \n",
       "2          110809.6875               29.000000      7.060000         0.27  \n",
       "3          110809.6875               25.000000     14.940000         0.48  \n",
       "4          110809.6875            61044.948718     15.525191         0.65  "
      ]
     },
     "execution_count": 24,
     "metadata": {},
     "output_type": "execute_result"
    }
   ],
   "source": [
    "test.head()"
   ]
  },
  {
   "cell_type": "code",
   "execution_count": 25,
   "metadata": {},
   "outputs": [],
   "source": [
    "test.to_csv('task5_results/Волков Н..csv', index=False)"
   ]
  },
  {
   "cell_type": "code",
   "execution_count": null,
   "metadata": {},
   "outputs": [],
   "source": []
  },
  {
   "cell_type": "code",
   "execution_count": null,
   "metadata": {},
   "outputs": [],
   "source": []
  }
 ],
 "metadata": {
  "kernelspec": {
   "display_name": "Python 3 (ipykernel)",
   "language": "python",
   "name": "python3"
  },
  "language_info": {
   "codemirror_mode": {
    "name": "ipython",
    "version": 3
   },
   "file_extension": ".py",
   "mimetype": "text/x-python",
   "name": "python",
   "nbconvert_exporter": "python",
   "pygments_lexer": "ipython3",
   "version": "3.7.12"
  }
 },
 "nbformat": 4,
 "nbformat_minor": 4
}
