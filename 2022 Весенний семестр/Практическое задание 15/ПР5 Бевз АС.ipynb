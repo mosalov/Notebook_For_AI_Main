{
 "cells": [
  {
   "cell_type": "code",
   "execution_count": 226,
   "metadata": {
    "pycharm": {
     "name": "#%%\n"
    }
   },
   "outputs": [],
   "source": [
    "# Зависимости\n",
    "import pandas as pd\n",
    "import numpy as np\n",
    "import random\n",
    "import os\n",
    "\n",
    "from sklearn.model_selection import train_test_split\n",
    "from sklearn.preprocessing import MinMaxScaler\n",
    "from sklearn.compose import ColumnTransformer, TransformedTargetRegressor \n",
    "from sklearn.ensemble import GradientBoostingRegressor\n",
    "\n",
    "from sklearn.metrics import mean_squared_error"
   ]
  },
  {
   "cell_type": "code",
   "execution_count": 227,
   "metadata": {
    "pycharm": {
     "name": "#%%\n"
    }
   },
   "outputs": [],
   "source": [
    "# Инициализируем все известные генераторы случайных чисел\n",
    "my_code = \"Bevz\"\n",
    "seed_limit = 2 ** 32\n",
    "my_seed = int.from_bytes(my_code.encode(), \"little\") % seed_limit\n",
    "\n",
    "os.environ['PYTHONHASHSEED']=str(my_seed)\n",
    "\n",
    "random.seed(my_seed)\n",
    "\n",
    "np.random.seed(my_seed)"
   ]
  },
  {
   "cell_type": "code",
   "execution_count": 228,
   "metadata": {
    "pycharm": {
     "name": "#%%\n"
    }
   },
   "outputs": [],
   "source": [
    "# Читаем данные из файла\n",
    "train_data = pd.read_csv(\"../datasets/rus_stocks_funds_train.csv\")"
   ]
  },
  {
   "cell_type": "code",
   "execution_count": 229,
   "metadata": {
    "scrolled": true,
    "pycharm": {
     "name": "#%%\n"
    }
   },
   "outputs": [
    {
     "data": {
      "text/plain": "   Total issued ordinary shares  Number of shares available for sale  \\\n0                  7.210000e+09                         2.870000e+09   \n1                  1.060000e+10                         1.130000e+09   \n2                  2.249000e+10                         1.027000e+10   \n3                  4.995200e+08                         1.964200e+08   \n4                  9.520000e+09                         1.309960e+11   \n\n   Number of employees  Number of shareholders  Price/Profit  Debt/Assets  \n0          110809.6875             3190.000000      9.870000         0.27  \n1          318000.0000            28230.000000     13.910000         0.30  \n2          329570.0000            61044.948718      4.080000         0.25  \n3           59380.0000               81.000000      2.910000         1.31  \n4          110809.6875            61044.948718     15.525191         0.35  ",
      "text/html": "<div>\n<style scoped>\n    .dataframe tbody tr th:only-of-type {\n        vertical-align: middle;\n    }\n\n    .dataframe tbody tr th {\n        vertical-align: top;\n    }\n\n    .dataframe thead th {\n        text-align: right;\n    }\n</style>\n<table border=\"1\" class=\"dataframe\">\n  <thead>\n    <tr style=\"text-align: right;\">\n      <th></th>\n      <th>Total issued ordinary shares</th>\n      <th>Number of shares available for sale</th>\n      <th>Number of employees</th>\n      <th>Number of shareholders</th>\n      <th>Price/Profit</th>\n      <th>Debt/Assets</th>\n    </tr>\n  </thead>\n  <tbody>\n    <tr>\n      <th>0</th>\n      <td>7.210000e+09</td>\n      <td>2.870000e+09</td>\n      <td>110809.6875</td>\n      <td>3190.000000</td>\n      <td>9.870000</td>\n      <td>0.27</td>\n    </tr>\n    <tr>\n      <th>1</th>\n      <td>1.060000e+10</td>\n      <td>1.130000e+09</td>\n      <td>318000.0000</td>\n      <td>28230.000000</td>\n      <td>13.910000</td>\n      <td>0.30</td>\n    </tr>\n    <tr>\n      <th>2</th>\n      <td>2.249000e+10</td>\n      <td>1.027000e+10</td>\n      <td>329570.0000</td>\n      <td>61044.948718</td>\n      <td>4.080000</td>\n      <td>0.25</td>\n    </tr>\n    <tr>\n      <th>3</th>\n      <td>4.995200e+08</td>\n      <td>1.964200e+08</td>\n      <td>59380.0000</td>\n      <td>81.000000</td>\n      <td>2.910000</td>\n      <td>1.31</td>\n    </tr>\n    <tr>\n      <th>4</th>\n      <td>9.520000e+09</td>\n      <td>1.309960e+11</td>\n      <td>110809.6875</td>\n      <td>61044.948718</td>\n      <td>15.525191</td>\n      <td>0.35</td>\n    </tr>\n  </tbody>\n</table>\n</div>"
     },
     "execution_count": 229,
     "metadata": {},
     "output_type": "execute_result"
    }
   ],
   "source": [
    "train_data.head()"
   ]
  },
  {
   "cell_type": "code",
   "execution_count": 230,
   "metadata": {
    "pycharm": {
     "name": "#%%\n"
    }
   },
   "outputs": [
    {
     "name": "stdout",
     "output_type": "stream",
     "text": [
      "66\n"
     ]
    }
   ],
   "source": [
    "# Определим размер валидационной выборки\n",
    "val_size = round(0.2 * len(train_data))\n",
    "print(val_size)"
   ]
  },
  {
   "cell_type": "code",
   "execution_count": 231,
   "metadata": {
    "pycharm": {
     "name": "#%%\n"
    }
   },
   "outputs": [
    {
     "name": "stdout",
     "output_type": "stream",
     "text": [
      "263 66\n"
     ]
    }
   ],
   "source": [
    "# Создадим обучающую и валидационную выборки\n",
    "random_state = my_seed\n",
    "train, val = train_test_split(train_data, test_size=val_size, random_state=random_state)\n",
    "print(len(train), len(val))"
   ]
  },
  {
   "cell_type": "code",
   "execution_count": 232,
   "metadata": {
    "pycharm": {
     "name": "#%%\n"
    }
   },
   "outputs": [
    {
     "data": {
      "text/plain": "ColumnTransformer(remainder='passthrough',\n                  transformers=[('numerical', MinMaxScaler(),\n                                 ['Total issued ordinary shares',\n                                  'Number of shares available for sale',\n                                  'Number of employees',\n                                  'Number of shareholders', 'Price/Profit'])])"
     },
     "execution_count": 232,
     "metadata": {},
     "output_type": "execute_result"
    }
   ],
   "source": [
    "# Значения в числовых столбцах преобразуем к отрезку [0,1].\n",
    "# Для настройки скалировщика используем только обучающую выборку.\n",
    "y_column = 'Debt/Assets'\n",
    "x_columns = [e for e in train_data.columns if e != y_column]\n",
    "\n",
    "ct = ColumnTransformer(transformers=[('numerical', MinMaxScaler(), x_columns)], remainder='passthrough')\n",
    "\n",
    "ct.fit(train)"
   ]
  },
  {
   "cell_type": "code",
   "execution_count": 233,
   "metadata": {
    "pycharm": {
     "name": "#%%\n"
    }
   },
   "outputs": [],
   "source": [
    "# Преобразуем значения, тип данных приводим к DataFrame\n",
    "sc_train = pd.DataFrame(ct.transform(train))\n",
    "sc_val = pd.DataFrame(ct.transform(val))"
   ]
  },
  {
   "cell_type": "code",
   "execution_count": 234,
   "metadata": {
    "pycharm": {
     "name": "#%%\n"
    }
   },
   "outputs": [],
   "source": [
    "# Устанавливаем названия столбцов\n",
    "column_names = list(x_columns) + [y_column]\n",
    "sc_train.columns = column_names\n",
    "sc_val.columns = column_names"
   ]
  },
  {
   "cell_type": "code",
   "execution_count": 235,
   "metadata": {
    "pycharm": {
     "name": "#%%\n"
    }
   },
   "outputs": [
    {
     "data": {
      "text/plain": "     Total issued ordinary shares  Number of shares available for sale  \\\n0                        0.000275                             0.024408   \n1                        0.000671                             0.025882   \n2                        0.000647                             0.025647   \n3                        0.000444                             0.024098   \n4                        0.000326                             0.049084   \n..                            ...                                  ...   \n258                      0.000010                             0.049084   \n259                      0.001843                             0.049084   \n260                      0.000010                             0.049084   \n261                      0.000004                             0.023818   \n262                      0.000019                             0.023842   \n\n     Number of employees  Number of shareholders  Price/Profit  Debt/Assets  \n0               0.231181                0.000221      0.063121         0.53  \n1               0.975855                0.111928      0.012426         0.20  \n2               0.991104                0.111928      0.012690         0.18  \n3               0.119520                0.000000      0.009309         0.51  \n4               0.231181                0.149645      0.033371         0.13  \n..                   ...                     ...           ...          ...  \n258             0.231181                0.149645      0.469044         0.19  \n259             0.231181                0.149645      0.044788         0.01  \n260             0.231181                0.149645      0.274436         0.19  \n261             0.231181                0.094595      0.030298         0.51  \n262             0.231181                0.000103      0.051813         0.12  \n\n[263 rows x 6 columns]",
      "text/html": "<div>\n<style scoped>\n    .dataframe tbody tr th:only-of-type {\n        vertical-align: middle;\n    }\n\n    .dataframe tbody tr th {\n        vertical-align: top;\n    }\n\n    .dataframe thead th {\n        text-align: right;\n    }\n</style>\n<table border=\"1\" class=\"dataframe\">\n  <thead>\n    <tr style=\"text-align: right;\">\n      <th></th>\n      <th>Total issued ordinary shares</th>\n      <th>Number of shares available for sale</th>\n      <th>Number of employees</th>\n      <th>Number of shareholders</th>\n      <th>Price/Profit</th>\n      <th>Debt/Assets</th>\n    </tr>\n  </thead>\n  <tbody>\n    <tr>\n      <th>0</th>\n      <td>0.000275</td>\n      <td>0.024408</td>\n      <td>0.231181</td>\n      <td>0.000221</td>\n      <td>0.063121</td>\n      <td>0.53</td>\n    </tr>\n    <tr>\n      <th>1</th>\n      <td>0.000671</td>\n      <td>0.025882</td>\n      <td>0.975855</td>\n      <td>0.111928</td>\n      <td>0.012426</td>\n      <td>0.20</td>\n    </tr>\n    <tr>\n      <th>2</th>\n      <td>0.000647</td>\n      <td>0.025647</td>\n      <td>0.991104</td>\n      <td>0.111928</td>\n      <td>0.012690</td>\n      <td>0.18</td>\n    </tr>\n    <tr>\n      <th>3</th>\n      <td>0.000444</td>\n      <td>0.024098</td>\n      <td>0.119520</td>\n      <td>0.000000</td>\n      <td>0.009309</td>\n      <td>0.51</td>\n    </tr>\n    <tr>\n      <th>4</th>\n      <td>0.000326</td>\n      <td>0.049084</td>\n      <td>0.231181</td>\n      <td>0.149645</td>\n      <td>0.033371</td>\n      <td>0.13</td>\n    </tr>\n    <tr>\n      <th>...</th>\n      <td>...</td>\n      <td>...</td>\n      <td>...</td>\n      <td>...</td>\n      <td>...</td>\n      <td>...</td>\n    </tr>\n    <tr>\n      <th>258</th>\n      <td>0.000010</td>\n      <td>0.049084</td>\n      <td>0.231181</td>\n      <td>0.149645</td>\n      <td>0.469044</td>\n      <td>0.19</td>\n    </tr>\n    <tr>\n      <th>259</th>\n      <td>0.001843</td>\n      <td>0.049084</td>\n      <td>0.231181</td>\n      <td>0.149645</td>\n      <td>0.044788</td>\n      <td>0.01</td>\n    </tr>\n    <tr>\n      <th>260</th>\n      <td>0.000010</td>\n      <td>0.049084</td>\n      <td>0.231181</td>\n      <td>0.149645</td>\n      <td>0.274436</td>\n      <td>0.19</td>\n    </tr>\n    <tr>\n      <th>261</th>\n      <td>0.000004</td>\n      <td>0.023818</td>\n      <td>0.231181</td>\n      <td>0.094595</td>\n      <td>0.030298</td>\n      <td>0.51</td>\n    </tr>\n    <tr>\n      <th>262</th>\n      <td>0.000019</td>\n      <td>0.023842</td>\n      <td>0.231181</td>\n      <td>0.000103</td>\n      <td>0.051813</td>\n      <td>0.12</td>\n    </tr>\n  </tbody>\n</table>\n<p>263 rows × 6 columns</p>\n</div>"
     },
     "execution_count": 235,
     "metadata": {},
     "output_type": "execute_result"
    }
   ],
   "source": [
    "sc_train"
   ]
  },
  {
   "cell_type": "code",
   "execution_count": 236,
   "metadata": {
    "pycharm": {
     "name": "#%%\n"
    }
   },
   "outputs": [],
   "source": [
    "# Отберем необходимые параметры\n",
    "x_train = sc_train[x_columns]\n",
    "x_val = sc_val[x_columns]\n",
    "\n",
    "y_train = sc_train[y_column].values.flatten()\n",
    "y_val = sc_val[y_column].values.flatten()"
   ]
  },
  {
   "cell_type": "code",
   "execution_count": 237,
   "metadata": {
    "pycharm": {
     "name": "#%%\n"
    }
   },
   "outputs": [],
   "source": [
    "# Создадим простую модель градиентного бустинга\n",
    "\n",
    "model = TransformedTargetRegressor(regressor=GradientBoostingRegressor(), transformer=MinMaxScaler())"
   ]
  },
  {
   "cell_type": "code",
   "execution_count": 238,
   "metadata": {
    "scrolled": true,
    "pycharm": {
     "name": "#%%\n"
    }
   },
   "outputs": [
    {
     "data": {
      "text/plain": "TransformedTargetRegressor(regressor=GradientBoostingRegressor(),\n                           transformer=MinMaxScaler())"
     },
     "execution_count": 238,
     "metadata": {},
     "output_type": "execute_result"
    }
   ],
   "source": [
    "# Обучим модель\n",
    "model.fit(x_train, y_train)"
   ]
  },
  {
   "cell_type": "code",
   "execution_count": 239,
   "metadata": {
    "pycharm": {
     "name": "#%%\n"
    }
   },
   "outputs": [
    {
     "name": "stdout",
     "output_type": "stream",
     "text": [
      "0.022996502408611376\n"
     ]
    }
   ],
   "source": [
    "# Проверим работу обученной модели на валидационной выборке\n",
    "pred_val = model.predict(x_val)\n",
    "mse = mean_squared_error(y_val, pred_val)\n",
    "print(mse)"
   ]
  },
  {
   "cell_type": "code",
   "execution_count": 240,
   "metadata": {
    "pycharm": {
     "name": "#%%\n"
    }
   },
   "outputs": [
    {
     "data": {
      "text/plain": "array([ 0.19956786,  0.48206141,  0.19526541,  0.37401079,  0.52380078,\n        0.4682465 ,  0.23934236,  0.16446476,  0.44651677,  0.71553682,\n        0.27294131,  0.25715935,  0.53963691,  0.43461838,  0.33468572,\n        0.48364998,  0.13975754,  0.99160626,  0.24867657, -0.00594409,\n        0.19156867,  0.21061557,  0.547719  ,  0.45473109,  0.37401079,\n        0.30415349,  0.21448613,  1.03919333,  0.35764598,  0.43663736,\n        0.49378838,  0.2533404 ,  0.16657038,  0.5785327 ,  0.49818626,\n        0.23741273,  0.57521071,  0.36558763,  0.24416895,  0.25774371,\n        0.3415079 ,  0.27194766,  0.16657038,  0.41628991,  0.1338499 ,\n        0.20828321,  0.37401079,  0.11411313,  0.16233817,  0.74328571,\n        0.1338499 ,  0.08160557,  0.19078485,  0.17349903,  0.15919933,\n        0.1517034 ,  0.5773063 ,  0.1338499 ,  0.05202464,  0.34535406,\n        0.24463357,  0.19271582,  0.27132109,  0.28415561,  0.22751842,\n        0.13661244])"
     },
     "execution_count": 240,
     "metadata": {},
     "output_type": "execute_result"
    }
   ],
   "source": [
    "pred_val"
   ]
  },
  {
   "cell_type": "code",
   "execution_count": 241,
   "metadata": {
    "pycharm": {
     "name": "#%%\n"
    }
   },
   "outputs": [],
   "source": [
    "test = pd.read_csv(\"../datasets/rus_stocks_funds_test.csv\")"
   ]
  },
  {
   "cell_type": "code",
   "execution_count": 242,
   "metadata": {
    "pycharm": {
     "name": "#%%\n"
    }
   },
   "outputs": [],
   "source": [
    "test[y_column] = 0.0"
   ]
  },
  {
   "cell_type": "code",
   "execution_count": 243,
   "metadata": {
    "pycharm": {
     "name": "#%%\n"
    }
   },
   "outputs": [
    {
     "data": {
      "text/plain": "    Total issued ordinary shares  Number of shares available for sale  \\\n0                   3.644700e+11                         1.017600e+11   \n1                   6.968900e+08                         4.339700e+08   \n2                   1.580000e+07                         3.880000e+06   \n3                   1.295000e+08                         3.573000e+07   \n4                   2.400000e+09                         1.309960e+11   \n..                           ...                                  ...   \n77                  1.528600e+08                         1.309960e+11   \n78                  1.295000e+08                         2.634000e+07   \n79                  2.246000e+10                         0.000000e+00   \n80                  1.295000e+08                         3.371000e+07   \n81                  2.250000e+09                         1.309960e+11   \n\n    Number of employees  Number of shareholders  Price/Profit  Debt/Assets  \n0             5840.0000           306350.000000      7.860000          0.0  \n1           110809.6875            39210.000000      5.670000          0.0  \n2           110809.6875               29.000000      7.060000          0.0  \n3           110809.6875               25.000000     14.940000          0.0  \n4           110809.6875            61044.948718     15.525191          0.0  \n..                  ...                     ...           ...          ...  \n77          110809.6875            61044.948718      6.270000          0.0  \n78          110809.6875               25.000000     15.525191          0.0  \n79          281550.0000            61044.948718      6.340000          0.0  \n80          110809.6875               25.000000      6.320000          0.0  \n81          110809.6875            61044.948718      9.530000          0.0  \n\n[82 rows x 6 columns]",
      "text/html": "<div>\n<style scoped>\n    .dataframe tbody tr th:only-of-type {\n        vertical-align: middle;\n    }\n\n    .dataframe tbody tr th {\n        vertical-align: top;\n    }\n\n    .dataframe thead th {\n        text-align: right;\n    }\n</style>\n<table border=\"1\" class=\"dataframe\">\n  <thead>\n    <tr style=\"text-align: right;\">\n      <th></th>\n      <th>Total issued ordinary shares</th>\n      <th>Number of shares available for sale</th>\n      <th>Number of employees</th>\n      <th>Number of shareholders</th>\n      <th>Price/Profit</th>\n      <th>Debt/Assets</th>\n    </tr>\n  </thead>\n  <tbody>\n    <tr>\n      <th>0</th>\n      <td>3.644700e+11</td>\n      <td>1.017600e+11</td>\n      <td>5840.0000</td>\n      <td>306350.000000</td>\n      <td>7.860000</td>\n      <td>0.0</td>\n    </tr>\n    <tr>\n      <th>1</th>\n      <td>6.968900e+08</td>\n      <td>4.339700e+08</td>\n      <td>110809.6875</td>\n      <td>39210.000000</td>\n      <td>5.670000</td>\n      <td>0.0</td>\n    </tr>\n    <tr>\n      <th>2</th>\n      <td>1.580000e+07</td>\n      <td>3.880000e+06</td>\n      <td>110809.6875</td>\n      <td>29.000000</td>\n      <td>7.060000</td>\n      <td>0.0</td>\n    </tr>\n    <tr>\n      <th>3</th>\n      <td>1.295000e+08</td>\n      <td>3.573000e+07</td>\n      <td>110809.6875</td>\n      <td>25.000000</td>\n      <td>14.940000</td>\n      <td>0.0</td>\n    </tr>\n    <tr>\n      <th>4</th>\n      <td>2.400000e+09</td>\n      <td>1.309960e+11</td>\n      <td>110809.6875</td>\n      <td>61044.948718</td>\n      <td>15.525191</td>\n      <td>0.0</td>\n    </tr>\n    <tr>\n      <th>...</th>\n      <td>...</td>\n      <td>...</td>\n      <td>...</td>\n      <td>...</td>\n      <td>...</td>\n      <td>...</td>\n    </tr>\n    <tr>\n      <th>77</th>\n      <td>1.528600e+08</td>\n      <td>1.309960e+11</td>\n      <td>110809.6875</td>\n      <td>61044.948718</td>\n      <td>6.270000</td>\n      <td>0.0</td>\n    </tr>\n    <tr>\n      <th>78</th>\n      <td>1.295000e+08</td>\n      <td>2.634000e+07</td>\n      <td>110809.6875</td>\n      <td>25.000000</td>\n      <td>15.525191</td>\n      <td>0.0</td>\n    </tr>\n    <tr>\n      <th>79</th>\n      <td>2.246000e+10</td>\n      <td>0.000000e+00</td>\n      <td>281550.0000</td>\n      <td>61044.948718</td>\n      <td>6.340000</td>\n      <td>0.0</td>\n    </tr>\n    <tr>\n      <th>80</th>\n      <td>1.295000e+08</td>\n      <td>3.371000e+07</td>\n      <td>110809.6875</td>\n      <td>25.000000</td>\n      <td>6.320000</td>\n      <td>0.0</td>\n    </tr>\n    <tr>\n      <th>81</th>\n      <td>2.250000e+09</td>\n      <td>1.309960e+11</td>\n      <td>110809.6875</td>\n      <td>61044.948718</td>\n      <td>9.530000</td>\n      <td>0.0</td>\n    </tr>\n  </tbody>\n</table>\n<p>82 rows × 6 columns</p>\n</div>"
     },
     "execution_count": 243,
     "metadata": {},
     "output_type": "execute_result"
    }
   ],
   "source": [
    "test"
   ]
  },
  {
   "cell_type": "code",
   "execution_count": 244,
   "metadata": {
    "pycharm": {
     "name": "#%%\n"
    }
   },
   "outputs": [],
   "source": [
    "sc_test = pd.DataFrame(ct.transform(test))\n",
    "sc_test.columns = column_names"
   ]
  },
  {
   "cell_type": "code",
   "execution_count": 245,
   "metadata": {
    "pycharm": {
     "name": "#%%\n"
    }
   },
   "outputs": [],
   "source": [
    "x_test = sc_test[x_columns]"
   ]
  },
  {
   "cell_type": "code",
   "execution_count": 246,
   "metadata": {
    "pycharm": {
     "name": "#%%\n"
    }
   },
   "outputs": [],
   "source": [
    "test[y_column] = model.predict(x_test)"
   ]
  },
  {
   "cell_type": "code",
   "execution_count": 247,
   "metadata": {
    "pycharm": {
     "name": "#%%\n"
    }
   },
   "outputs": [
    {
     "data": {
      "text/plain": "   Total issued ordinary shares  Number of shares available for sale  \\\n0                  3.644700e+11                         1.017600e+11   \n1                  6.968900e+08                         4.339700e+08   \n2                  1.580000e+07                         3.880000e+06   \n3                  1.295000e+08                         3.573000e+07   \n4                  2.400000e+09                         1.309960e+11   \n\n   Number of employees  Number of shareholders  Price/Profit  Debt/Assets  \n0            5840.0000           306350.000000      7.860000     0.171426  \n1          110809.6875            39210.000000      5.670000     0.247478  \n2          110809.6875               29.000000      7.060000     0.317596  \n3          110809.6875               25.000000     14.940000     0.427190  \n4          110809.6875            61044.948718     15.525191     0.578533  ",
      "text/html": "<div>\n<style scoped>\n    .dataframe tbody tr th:only-of-type {\n        vertical-align: middle;\n    }\n\n    .dataframe tbody tr th {\n        vertical-align: top;\n    }\n\n    .dataframe thead th {\n        text-align: right;\n    }\n</style>\n<table border=\"1\" class=\"dataframe\">\n  <thead>\n    <tr style=\"text-align: right;\">\n      <th></th>\n      <th>Total issued ordinary shares</th>\n      <th>Number of shares available for sale</th>\n      <th>Number of employees</th>\n      <th>Number of shareholders</th>\n      <th>Price/Profit</th>\n      <th>Debt/Assets</th>\n    </tr>\n  </thead>\n  <tbody>\n    <tr>\n      <th>0</th>\n      <td>3.644700e+11</td>\n      <td>1.017600e+11</td>\n      <td>5840.0000</td>\n      <td>306350.000000</td>\n      <td>7.860000</td>\n      <td>0.171426</td>\n    </tr>\n    <tr>\n      <th>1</th>\n      <td>6.968900e+08</td>\n      <td>4.339700e+08</td>\n      <td>110809.6875</td>\n      <td>39210.000000</td>\n      <td>5.670000</td>\n      <td>0.247478</td>\n    </tr>\n    <tr>\n      <th>2</th>\n      <td>1.580000e+07</td>\n      <td>3.880000e+06</td>\n      <td>110809.6875</td>\n      <td>29.000000</td>\n      <td>7.060000</td>\n      <td>0.317596</td>\n    </tr>\n    <tr>\n      <th>3</th>\n      <td>1.295000e+08</td>\n      <td>3.573000e+07</td>\n      <td>110809.6875</td>\n      <td>25.000000</td>\n      <td>14.940000</td>\n      <td>0.427190</td>\n    </tr>\n    <tr>\n      <th>4</th>\n      <td>2.400000e+09</td>\n      <td>1.309960e+11</td>\n      <td>110809.6875</td>\n      <td>61044.948718</td>\n      <td>15.525191</td>\n      <td>0.578533</td>\n    </tr>\n  </tbody>\n</table>\n</div>"
     },
     "execution_count": 247,
     "metadata": {},
     "output_type": "execute_result"
    }
   ],
   "source": [
    "test.head()"
   ]
  },
  {
   "cell_type": "code",
   "execution_count": 248,
   "outputs": [],
   "source": [
    "test.to_csv('../task5_results/Бевз_АС.csv', index=False)"
   ],
   "metadata": {
    "collapsed": false,
    "pycharm": {
     "name": "#%%\n"
    }
   }
  },
  {
   "cell_type": "code",
   "execution_count": null,
   "outputs": [],
   "source": [],
   "metadata": {
    "collapsed": false,
    "pycharm": {
     "name": "#%%\n"
    }
   }
  }
 ],
 "metadata": {
  "kernelspec": {
   "display_name": "Python 3 (ipykernel)",
   "language": "python",
   "name": "python3"
  },
  "language_info": {
   "codemirror_mode": {
    "name": "ipython",
    "version": 3
   },
   "file_extension": ".py",
   "mimetype": "text/x-python",
   "name": "python",
   "nbconvert_exporter": "python",
   "pygments_lexer": "ipython3",
   "version": "3.7.12"
  }
 },
 "nbformat": 4,
 "nbformat_minor": 4
}